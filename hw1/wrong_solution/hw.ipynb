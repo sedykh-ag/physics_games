{
 "cells": [
  {
   "cell_type": "code",
   "execution_count": 1,
   "metadata": {},
   "outputs": [],
   "source": [
    "import sympy as sp\n",
    "import numpy as np\n",
    "import matplotlib.pyplot as plt\n",
    "from spring import spring"
   ]
  },
  {
   "cell_type": "code",
   "execution_count": 2,
   "metadata": {},
   "outputs": [],
   "source": [
    "x_1 = sp.Function('x_1')\n",
    "x_2 = sp.Function('x_2')\n",
    "\n",
    "t = sp.symbols('t')\n",
    "g = sp.symbols('g')\n",
    "k_1 = 7\n",
    "k_2 = 14\n",
    "\n",
    "eq_1 = sp.Eq(x_1(t).diff(t, t), g - k_1*x_1(t))\n",
    "eq_2 = sp.Eq(x_2(t).diff(t, t), g - k_2*(x_2(t) - x_1(t)))\n",
    "eqs = [eq_1, eq_2]"
   ]
  },
  {
   "cell_type": "code",
   "execution_count": 3,
   "metadata": {},
   "outputs": [],
   "source": [
    "sol = sp.dsolve(eqs, ics={\n",
    "  x_1(0): 1,\n",
    "  x_2(0): 2,\n",
    "  sp.diff(x_1(t), t).subs(t, 0): 0,\n",
    "  sp.diff(x_2(t), t).subs(t, 0): 0\n",
    "})"
   ]
  },
  {
   "cell_type": "code",
   "execution_count": 4,
   "metadata": {},
   "outputs": [
    {
     "data": {
      "text/latex": [
       "$\\displaystyle \\operatorname{x_{1}}{\\left(t \\right)} = \\frac{g \\cos^{2}{\\left(\\sqrt{7} t \\right)}}{7} + \\frac{2 g \\sin{\\left(\\sqrt{7} t \\right)} \\tan{\\left(\\frac{\\sqrt{7} t}{2} \\right)}}{7 \\left(\\tan^{2}{\\left(\\frac{\\sqrt{7} t}{2} \\right)} + 1\\right)} - \\frac{\\left(g - 7\\right) \\cos{\\left(\\sqrt{7} t \\right)}}{7}$"
      ],
      "text/plain": [
       "Eq(x_1(t), g*cos(sqrt(7)*t)**2/7 + 2*g*sin(sqrt(7)*t)*tan(sqrt(7)*t/2)/(7*(tan(sqrt(7)*t/2)**2 + 1)) - (g - 7)*cos(sqrt(7)*t)/7)"
      ]
     },
     "execution_count": 4,
     "metadata": {},
     "output_type": "execute_result"
    }
   ],
   "source": [
    "sol[0]"
   ]
  },
  {
   "cell_type": "code",
   "execution_count": 5,
   "metadata": {},
   "outputs": [
    {
     "data": {
      "text/latex": [
       "$\\displaystyle \\operatorname{x_{2}}{\\left(t \\right)} = \\frac{\\sqrt{14} C_{3} \\sin{\\left(\\sqrt{14} t \\right)}}{14} - \\frac{g \\cos^{2}{\\left(\\sqrt{14} t \\right)}}{14} + \\frac{g \\cos{\\left(\\sqrt{14} t \\right)}}{14} + \\frac{2 g \\cos^{2}{\\left(\\sqrt{7} t \\right)}}{7} + \\frac{4 g \\sin{\\left(\\sqrt{7} t \\right)} \\tan{\\left(\\frac{\\sqrt{7} t}{2} \\right)}}{7 \\left(\\tan^{2}{\\left(\\frac{\\sqrt{7} t}{2} \\right)} + 1\\right)} - \\frac{g \\sin{\\left(\\sqrt{14} t \\right)} \\tan{\\left(\\frac{\\sqrt{14} t}{2} \\right)}}{7 \\left(\\tan^{2}{\\left(\\frac{\\sqrt{14} t}{2} \\right)} + 1\\right)} - \\frac{2 \\left(g - 7\\right) \\cos{\\left(\\sqrt{7} t \\right)}}{7}$"
      ],
      "text/plain": [
       "Eq(x_2(t), sqrt(14)*C3*sin(sqrt(14)*t)/14 - g*cos(sqrt(14)*t)**2/14 + g*cos(sqrt(14)*t)/14 + 2*g*cos(sqrt(7)*t)**2/7 + 4*g*sin(sqrt(7)*t)*tan(sqrt(7)*t/2)/(7*(tan(sqrt(7)*t/2)**2 + 1)) - g*sin(sqrt(14)*t)*tan(sqrt(14)*t/2)/(7*(tan(sqrt(14)*t/2)**2 + 1)) - 2*(g - 7)*cos(sqrt(7)*t)/7)"
      ]
     },
     "execution_count": 5,
     "metadata": {},
     "output_type": "execute_result"
    }
   ],
   "source": [
    "sol[1]"
   ]
  },
  {
   "cell_type": "code",
   "execution_count": 6,
   "metadata": {},
   "outputs": [],
   "source": [
    "x_1_func = sp.lambdify(t, sol[0].rhs.subs(g, 10))\n",
    "x_2_func = sp.lambdify(t, sol[1].rhs.subs(g, 10))"
   ]
  },
  {
   "cell_type": "code",
   "execution_count": 7,
   "metadata": {},
   "outputs": [],
   "source": [
    "ANIM_TIME = 30 # seconds\n",
    "FPS = 50\n",
    "FRAMETIME = 1 / FPS # in seconds\n",
    "TOTAL_FRAMES = ANIM_TIME * FPS"
   ]
  },
  {
   "cell_type": "code",
   "execution_count": 8,
   "metadata": {},
   "outputs": [],
   "source": [
    "ts = np.linspace(0, ANIM_TIME, FPS * ANIM_TIME)\n",
    "\n",
    "x_1_anim = -x_1_func(ts)\n",
    "x_2_anim = -x_2_func(ts)"
   ]
  },
  {
   "cell_type": "code",
   "execution_count": 9,
   "metadata": {},
   "outputs": [],
   "source": [
    "ylim = (int(np.concatenate([x_1_anim, x_2_anim]).min()) - 1, int(np.concatenate([x_1_anim, x_2_anim]).max()) + 1)"
   ]
  },
  {
   "cell_type": "code",
   "execution_count": 10,
   "metadata": {},
   "outputs": [],
   "source": [
    "origin = (0, 0)\n",
    "def animate(frame):\n",
    "    x_1 = x_1_anim[frame]\n",
    "    x_2 = x_2_anim[frame]\n",
    "\n",
    "    line_1.set_data(*spring(origin, (0, x_1), 20, 0.5))\n",
    "    line_2.set_data(*spring((0, x_1), (0, x_2), 20, 0.5))\n",
    "\n",
    "    return line_1, line_2"
   ]
  },
  {
   "cell_type": "code",
   "execution_count": 11,
   "metadata": {},
   "outputs": [
    {
     "data": {
      "image/png": "[encoded data removed]",
      "text/plain": [
       "<Figure size 640x480 with 1 Axes>"
      ]
     },
     "metadata": {},
     "output_type": "display_data"
    }
   ],
   "source": [
    "from matplotlib.animation import FuncAnimation\n",
    "\n",
    "fig = plt.figure()\n",
    "ax = plt.axes(xlim=(-2, 2), ylim=ylim)\n",
    "ax.set_aspect(\"equal\", \"box\")\n",
    "line_1 = ax.plot([], [], lw=1)[0]\n",
    "line_2 = ax.plot([], [], lw=1)[0]\n",
    "\n",
    "anim = FuncAnimation(fig, animate,\n",
    "                     frames=TOTAL_FRAMES, interval=int(FRAMETIME*1000), blit=True)"
   ]
  },
  {
   "cell_type": "code",
   "execution_count": 12,
   "metadata": {},
   "outputs": [],
   "source": [
    "anim.save(\"heavy_spring.mp4\") # warning, may take some time"
   ]
  },
  {
   "cell_type": "code",
   "execution_count": 13,
   "metadata": {},
   "outputs": [],
   "source": [
    "# anim.save(\"heavy_spring.gif\")"
   ]
  }
 ],
 "metadata": {
  "kernelspec": {
   "display_name": "physics",
   "language": "python",
   "name": "python3"
  },
  "language_info": {
   "codemirror_mode": {
    "name": "ipython",
    "version": 3
   },
   "file_extension": ".py",
   "mimetype": "text/x-python",
   "name": "python",
   "nbconvert_exporter": "python",
   "pygments_lexer": "ipython3",
   "version": "3.12.1"
  }
 },
 "nbformat": 4,
 "nbformat_minor": 2
}
