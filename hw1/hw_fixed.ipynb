{
 "cells": [
  {
   "cell_type": "code",
   "execution_count": 1,
   "metadata": {},
   "outputs": [],
   "source": [
    "import numpy as np\n",
    "import sympy as sp"
   ]
  },
  {
   "cell_type": "code",
   "execution_count": 2,
   "metadata": {},
   "outputs": [],
   "source": [
    "t, m, g, k = sp.symbols('t, m, g, k')"
   ]
  },
  {
   "cell_type": "code",
   "execution_count": 3,
   "metadata": {},
   "outputs": [],
   "source": [
    "# get independent variables symbols\n",
    "the1 = sp.Function(r'\\theta_1')(t)\n",
    "the2 = sp.Function(r'\\theta_2')(t)\n",
    "\n",
    "r1 = sp.Function(r'r_1')(t)\n",
    "r2 = sp.Function(r'r_2')(t)\n",
    "\n",
    "# get their derivatives symbols\n",
    "the1_d = sp.diff(the1, t)\n",
    "the1_dd = sp.diff(the1_d, t)\n",
    "\n",
    "the2_d = sp.diff(the2, t)\n",
    "the2_dd = sp.diff(sp.diff(the2, t), t)\n",
    "\n",
    "r1_d = sp.diff(r1, t)\n",
    "r1_dd = sp.diff(sp.diff(r1, t), t)\n",
    "\n",
    "r2_d = sp.diff(r2, t)\n",
    "r2_dd = sp.diff(sp.diff(r2, t), t)"
   ]
  },
  {
   "cell_type": "code",
   "execution_count": 4,
   "metadata": {},
   "outputs": [],
   "source": [
    "# x1 = sp.Function(r'x_1')\n",
    "# y1 = sp.Function(r'y_1')\n",
    "# \n",
    "# x2 = sp.Function(r'x_2')\n",
    "# y2 = sp.Function(r'y_2')\n",
    "# \n",
    "# x1 = x1(the1, r1)\n",
    "# y1 = y1(the1, r1)\n",
    "# x2 = x2(the1, r1, the2, r2)\n",
    "# y2 = y2(the1, r1, the2, r2)"
   ]
  },
  {
   "cell_type": "code",
   "execution_count": 5,
   "metadata": {},
   "outputs": [],
   "source": [
    "# x1 = (1+r1)*sp.cos(the1)\n",
    "# y1 = -(1+r1)*sp.sin(the1)\n",
    "# x2 = (1+r1)*sp.cos(the1) + (1+r2)*sp.cos(the2)\n",
    "# y2 = -(1+r1)*sp.sin(the1)-(1+r2)*sp.sin(the2)\n",
    "\n",
    "# small angles taylor series\n",
    "\n",
    "# get cartesian coords from r and theta\n",
    "\n",
    "x1 = (1+r1)*(1 - the1**2 / 2)\n",
    "y1 = -(1+r1)*(the1)\n",
    "x2 = (1+r1)*(1 - the1**2 / 2) + (1+r2)*(1 - the2**2 / 2)\n",
    "y2 = -(1+r1)*the1-(1+r2)*the2"
   ]
  },
  {
   "cell_type": "code",
   "execution_count": 6,
   "metadata": {},
   "outputs": [],
   "source": [
    "T = 1/2 * m * (sp.diff(x1, t)**2 + sp.diff(y1, t)**2 + \\\n",
    "               sp.diff(x2, t)**2 + + sp.diff(y2, t)**2)\n",
    "V = m*g*y1 + m*g*y2 + 1/2 * k * r1**2 + 1/2 * k * r2**2\n",
    "L = T - V"
   ]
  },
  {
   "cell_type": "code",
   "execution_count": 7,
   "metadata": {},
   "outputs": [
    {
     "data": {
      "text/latex": [
       "$\\displaystyle - g m \\left(\\left(- \\operatorname{r_{1}}{\\left(t \\right)} - 1\\right) \\theta_{1}{\\left(t \\right)} - \\left(\\operatorname{r_{2}}{\\left(t \\right)} + 1\\right) \\theta_{2}{\\left(t \\right)}\\right) - g m \\left(- \\operatorname{r_{1}}{\\left(t \\right)} - 1\\right) \\theta_{1}{\\left(t \\right)} - 0.5 k \\operatorname{r_{1}}^{2}{\\left(t \\right)} - 0.5 k \\operatorname{r_{2}}^{2}{\\left(t \\right)} + 0.5 m \\left(\\left(\\left(1 - \\frac{\\theta_{1}^{2}{\\left(t \\right)}}{2}\\right) \\frac{d}{d t} \\operatorname{r_{1}}{\\left(t \\right)} - \\left(\\operatorname{r_{1}}{\\left(t \\right)} + 1\\right) \\theta_{1}{\\left(t \\right)} \\frac{d}{d t} \\theta_{1}{\\left(t \\right)}\\right)^{2} + \\left(\\left(- \\operatorname{r_{1}}{\\left(t \\right)} - 1\\right) \\frac{d}{d t} \\theta_{1}{\\left(t \\right)} - \\theta_{1}{\\left(t \\right)} \\frac{d}{d t} \\operatorname{r_{1}}{\\left(t \\right)}\\right)^{2} + \\left(\\left(1 - \\frac{\\theta_{1}^{2}{\\left(t \\right)}}{2}\\right) \\frac{d}{d t} \\operatorname{r_{1}}{\\left(t \\right)} + \\left(1 - \\frac{\\theta_{2}^{2}{\\left(t \\right)}}{2}\\right) \\frac{d}{d t} \\operatorname{r_{2}}{\\left(t \\right)} - \\left(\\operatorname{r_{1}}{\\left(t \\right)} + 1\\right) \\theta_{1}{\\left(t \\right)} \\frac{d}{d t} \\theta_{1}{\\left(t \\right)} - \\left(\\operatorname{r_{2}}{\\left(t \\right)} + 1\\right) \\theta_{2}{\\left(t \\right)} \\frac{d}{d t} \\theta_{2}{\\left(t \\right)}\\right)^{2} + \\left(\\left(- \\operatorname{r_{1}}{\\left(t \\right)} - 1\\right) \\frac{d}{d t} \\theta_{1}{\\left(t \\right)} + \\left(- \\operatorname{r_{2}}{\\left(t \\right)} - 1\\right) \\frac{d}{d t} \\theta_{2}{\\left(t \\right)} - \\theta_{1}{\\left(t \\right)} \\frac{d}{d t} \\operatorname{r_{1}}{\\left(t \\right)} - \\theta_{2}{\\left(t \\right)} \\frac{d}{d t} \\operatorname{r_{2}}{\\left(t \\right)}\\right)^{2}\\right)$"
      ],
      "text/plain": [
       "-g*m*((-r_1(t) - 1)*\\theta_1(t) - (r_2(t) + 1)*\\theta_2(t)) - g*m*(-r_1(t) - 1)*\\theta_1(t) - 0.5*k*r_1(t)**2 - 0.5*k*r_2(t)**2 + 0.5*m*(((1 - \\theta_1(t)**2/2)*Derivative(r_1(t), t) - (r_1(t) + 1)*\\theta_1(t)*Derivative(\\theta_1(t), t))**2 + ((-r_1(t) - 1)*Derivative(\\theta_1(t), t) - \\theta_1(t)*Derivative(r_1(t), t))**2 + ((1 - \\theta_1(t)**2/2)*Derivative(r_1(t), t) + (1 - \\theta_2(t)**2/2)*Derivative(r_2(t), t) - (r_1(t) + 1)*\\theta_1(t)*Derivative(\\theta_1(t), t) - (r_2(t) + 1)*\\theta_2(t)*Derivative(\\theta_2(t), t))**2 + ((-r_1(t) - 1)*Derivative(\\theta_1(t), t) + (-r_2(t) - 1)*Derivative(\\theta_2(t), t) - \\theta_1(t)*Derivative(r_1(t), t) - \\theta_2(t)*Derivative(r_2(t), t))**2)"
      ]
     },
     "execution_count": 7,
     "metadata": {},
     "output_type": "execute_result"
    }
   ],
   "source": [
    "L"
   ]
  },
  {
   "cell_type": "code",
   "execution_count": 8,
   "metadata": {},
   "outputs": [],
   "source": [
    "LE1 = sp.diff(L, the1) - sp.diff(sp.diff(L, the1_d), t)\n",
    "LE1 = LE1.simplify()"
   ]
  },
  {
   "cell_type": "code",
   "execution_count": 9,
   "metadata": {},
   "outputs": [],
   "source": [
    "LE2 = sp.diff(L, the2) - sp.diff(sp.diff(L, the2_d), t)\n",
    "LE2 = LE2.simplify()"
   ]
  },
  {
   "cell_type": "code",
   "execution_count": 10,
   "metadata": {},
   "outputs": [],
   "source": [
    "LE3 = sp.diff(L, r1) - sp.diff(sp.diff(L, r1_d), t)\n",
    "LE3 = LE3.simplify()"
   ]
  },
  {
   "cell_type": "code",
   "execution_count": 11,
   "metadata": {},
   "outputs": [],
   "source": [
    "LE4 = sp.diff(L, r2) - sp.diff(sp.diff(L, r2_d), t)\n",
    "LE4 = LE4.simplify()"
   ]
  },
  {
   "cell_type": "code",
   "execution_count": 12,
   "metadata": {},
   "outputs": [
    {
     "data": {
      "text/latex": [
       "$\\displaystyle m \\left(2.0 g \\operatorname{r_{1}}{\\left(t \\right)} + 2.0 g - 1.0 \\theta_{1}^{3}{\\left(t \\right)} \\operatorname{r_{1}}{\\left(t \\right)} \\frac{d^{2}}{d t^{2}} \\operatorname{r_{1}}{\\left(t \\right)} - 1.0 \\theta_{1}^{3}{\\left(t \\right)} \\frac{d^{2}}{d t^{2}} \\operatorname{r_{1}}{\\left(t \\right)} - 2.0 \\theta_{1}^{2}{\\left(t \\right)} \\operatorname{r_{1}}^{2}{\\left(t \\right)} \\frac{d^{2}}{d t^{2}} \\theta_{1}{\\left(t \\right)} - 4.0 \\theta_{1}^{2}{\\left(t \\right)} \\operatorname{r_{1}}{\\left(t \\right)} \\frac{d}{d t} \\theta_{1}{\\left(t \\right)} \\frac{d}{d t} \\operatorname{r_{1}}{\\left(t \\right)} - 4.0 \\theta_{1}^{2}{\\left(t \\right)} \\operatorname{r_{1}}{\\left(t \\right)} \\frac{d^{2}}{d t^{2}} \\theta_{1}{\\left(t \\right)} - 4.0 \\theta_{1}^{2}{\\left(t \\right)} \\frac{d}{d t} \\theta_{1}{\\left(t \\right)} \\frac{d}{d t} \\operatorname{r_{1}}{\\left(t \\right)} - 2.0 \\theta_{1}^{2}{\\left(t \\right)} \\frac{d^{2}}{d t^{2}} \\theta_{1}{\\left(t \\right)} - 0.5 \\theta_{1}{\\left(t \\right)} \\theta_{2}^{2}{\\left(t \\right)} \\operatorname{r_{1}}{\\left(t \\right)} \\frac{d^{2}}{d t^{2}} \\operatorname{r_{2}}{\\left(t \\right)} - 0.5 \\theta_{1}{\\left(t \\right)} \\theta_{2}^{2}{\\left(t \\right)} \\frac{d^{2}}{d t^{2}} \\operatorname{r_{2}}{\\left(t \\right)} - 1.0 \\theta_{1}{\\left(t \\right)} \\theta_{2}{\\left(t \\right)} \\operatorname{r_{1}}{\\left(t \\right)} \\operatorname{r_{2}}{\\left(t \\right)} \\frac{d^{2}}{d t^{2}} \\theta_{2}{\\left(t \\right)} - 2.0 \\theta_{1}{\\left(t \\right)} \\theta_{2}{\\left(t \\right)} \\operatorname{r_{1}}{\\left(t \\right)} \\frac{d}{d t} \\theta_{2}{\\left(t \\right)} \\frac{d}{d t} \\operatorname{r_{2}}{\\left(t \\right)} - 1.0 \\theta_{1}{\\left(t \\right)} \\theta_{2}{\\left(t \\right)} \\operatorname{r_{1}}{\\left(t \\right)} \\frac{d^{2}}{d t^{2}} \\theta_{2}{\\left(t \\right)} - 1.0 \\theta_{1}{\\left(t \\right)} \\theta_{2}{\\left(t \\right)} \\operatorname{r_{2}}{\\left(t \\right)} \\frac{d^{2}}{d t^{2}} \\theta_{2}{\\left(t \\right)} - 2.0 \\theta_{1}{\\left(t \\right)} \\theta_{2}{\\left(t \\right)} \\frac{d}{d t} \\theta_{2}{\\left(t \\right)} \\frac{d}{d t} \\operatorname{r_{2}}{\\left(t \\right)} - 1.0 \\theta_{1}{\\left(t \\right)} \\theta_{2}{\\left(t \\right)} \\frac{d^{2}}{d t^{2}} \\theta_{2}{\\left(t \\right)} - 2.0 \\theta_{1}{\\left(t \\right)} \\operatorname{r_{1}}^{2}{\\left(t \\right)} \\left(\\frac{d}{d t} \\theta_{1}{\\left(t \\right)}\\right)^{2} - 1.0 \\theta_{1}{\\left(t \\right)} \\operatorname{r_{1}}{\\left(t \\right)} \\operatorname{r_{2}}{\\left(t \\right)} \\left(\\frac{d}{d t} \\theta_{2}{\\left(t \\right)}\\right)^{2} - 4.0 \\theta_{1}{\\left(t \\right)} \\operatorname{r_{1}}{\\left(t \\right)} \\left(\\frac{d}{d t} \\theta_{1}{\\left(t \\right)}\\right)^{2} - 1.0 \\theta_{1}{\\left(t \\right)} \\operatorname{r_{1}}{\\left(t \\right)} \\left(\\frac{d}{d t} \\theta_{2}{\\left(t \\right)}\\right)^{2} + 1.0 \\theta_{1}{\\left(t \\right)} \\operatorname{r_{1}}{\\left(t \\right)} \\frac{d^{2}}{d t^{2}} \\operatorname{r_{2}}{\\left(t \\right)} - 1.0 \\theta_{1}{\\left(t \\right)} \\operatorname{r_{2}}{\\left(t \\right)} \\left(\\frac{d}{d t} \\theta_{2}{\\left(t \\right)}\\right)^{2} - 2.0 \\theta_{1}{\\left(t \\right)} \\left(\\frac{d}{d t} \\theta_{1}{\\left(t \\right)}\\right)^{2} - 1.0 \\theta_{1}{\\left(t \\right)} \\left(\\frac{d}{d t} \\theta_{2}{\\left(t \\right)}\\right)^{2} + 1.0 \\theta_{1}{\\left(t \\right)} \\frac{d^{2}}{d t^{2}} \\operatorname{r_{2}}{\\left(t \\right)} - 1.0 \\theta_{2}{\\left(t \\right)} \\operatorname{r_{1}}{\\left(t \\right)} \\frac{d^{2}}{d t^{2}} \\operatorname{r_{2}}{\\left(t \\right)} - 1.0 \\theta_{2}{\\left(t \\right)} \\frac{d^{2}}{d t^{2}} \\operatorname{r_{2}}{\\left(t \\right)} - 2.0 \\operatorname{r_{1}}^{2}{\\left(t \\right)} \\frac{d^{2}}{d t^{2}} \\theta_{1}{\\left(t \\right)} - 1.0 \\operatorname{r_{1}}{\\left(t \\right)} \\operatorname{r_{2}}{\\left(t \\right)} \\frac{d^{2}}{d t^{2}} \\theta_{2}{\\left(t \\right)} - 4.0 \\operatorname{r_{1}}{\\left(t \\right)} \\frac{d}{d t} \\theta_{1}{\\left(t \\right)} \\frac{d}{d t} \\operatorname{r_{1}}{\\left(t \\right)} - 4.0 \\operatorname{r_{1}}{\\left(t \\right)} \\frac{d^{2}}{d t^{2}} \\theta_{1}{\\left(t \\right)} - 2.0 \\operatorname{r_{1}}{\\left(t \\right)} \\frac{d}{d t} \\theta_{2}{\\left(t \\right)} \\frac{d}{d t} \\operatorname{r_{2}}{\\left(t \\right)} - 1.0 \\operatorname{r_{1}}{\\left(t \\right)} \\frac{d^{2}}{d t^{2}} \\theta_{2}{\\left(t \\right)} - 1.0 \\operatorname{r_{2}}{\\left(t \\right)} \\frac{d^{2}}{d t^{2}} \\theta_{2}{\\left(t \\right)} - 4.0 \\frac{d}{d t} \\theta_{1}{\\left(t \\right)} \\frac{d}{d t} \\operatorname{r_{1}}{\\left(t \\right)} - 2.0 \\frac{d^{2}}{d t^{2}} \\theta_{1}{\\left(t \\right)} - 2.0 \\frac{d}{d t} \\theta_{2}{\\left(t \\right)} \\frac{d}{d t} \\operatorname{r_{2}}{\\left(t \\right)} - 1.0 \\frac{d^{2}}{d t^{2}} \\theta_{2}{\\left(t \\right)}\\right)$"
      ],
      "text/plain": [
       "m*(2.0*g*r_1(t) + 2.0*g - 1.0*\\theta_1(t)**3*r_1(t)*Derivative(r_1(t), (t, 2)) - 1.0*\\theta_1(t)**3*Derivative(r_1(t), (t, 2)) - 2.0*\\theta_1(t)**2*r_1(t)**2*Derivative(\\theta_1(t), (t, 2)) - 4.0*\\theta_1(t)**2*r_1(t)*Derivative(\\theta_1(t), t)*Derivative(r_1(t), t) - 4.0*\\theta_1(t)**2*r_1(t)*Derivative(\\theta_1(t), (t, 2)) - 4.0*\\theta_1(t)**2*Derivative(\\theta_1(t), t)*Derivative(r_1(t), t) - 2.0*\\theta_1(t)**2*Derivative(\\theta_1(t), (t, 2)) - 0.5*\\theta_1(t)*\\theta_2(t)**2*r_1(t)*Derivative(r_2(t), (t, 2)) - 0.5*\\theta_1(t)*\\theta_2(t)**2*Derivative(r_2(t), (t, 2)) - 1.0*\\theta_1(t)*\\theta_2(t)*r_1(t)*r_2(t)*Derivative(\\theta_2(t), (t, 2)) - 2.0*\\theta_1(t)*\\theta_2(t)*r_1(t)*Derivative(\\theta_2(t), t)*Derivative(r_2(t), t) - 1.0*\\theta_1(t)*\\theta_2(t)*r_1(t)*Derivative(\\theta_2(t), (t, 2)) - 1.0*\\theta_1(t)*\\theta_2(t)*r_2(t)*Derivative(\\theta_2(t), (t, 2)) - 2.0*\\theta_1(t)*\\theta_2(t)*Derivative(\\theta_2(t), t)*Derivative(r_2(t), t) - 1.0*\\theta_1(t)*\\theta_2(t)*Derivative(\\theta_2(t), (t, 2)) - 2.0*\\theta_1(t)*r_1(t)**2*Derivative(\\theta_1(t), t)**2 - 1.0*\\theta_1(t)*r_1(t)*r_2(t)*Derivative(\\theta_2(t), t)**2 - 4.0*\\theta_1(t)*r_1(t)*Derivative(\\theta_1(t), t)**2 - 1.0*\\theta_1(t)*r_1(t)*Derivative(\\theta_2(t), t)**2 + 1.0*\\theta_1(t)*r_1(t)*Derivative(r_2(t), (t, 2)) - 1.0*\\theta_1(t)*r_2(t)*Derivative(\\theta_2(t), t)**2 - 2.0*\\theta_1(t)*Derivative(\\theta_1(t), t)**2 - 1.0*\\theta_1(t)*Derivative(\\theta_2(t), t)**2 + 1.0*\\theta_1(t)*Derivative(r_2(t), (t, 2)) - 1.0*\\theta_2(t)*r_1(t)*Derivative(r_2(t), (t, 2)) - 1.0*\\theta_2(t)*Derivative(r_2(t), (t, 2)) - 2.0*r_1(t)**2*Derivative(\\theta_1(t), (t, 2)) - 1.0*r_1(t)*r_2(t)*Derivative(\\theta_2(t), (t, 2)) - 4.0*r_1(t)*Derivative(\\theta_1(t), t)*Derivative(r_1(t), t) - 4.0*r_1(t)*Derivative(\\theta_1(t), (t, 2)) - 2.0*r_1(t)*Derivative(\\theta_2(t), t)*Derivative(r_2(t), t) - 1.0*r_1(t)*Derivative(\\theta_2(t), (t, 2)) - 1.0*r_2(t)*Derivative(\\theta_2(t), (t, 2)) - 4.0*Derivative(\\theta_1(t), t)*Derivative(r_1(t), t) - 2.0*Derivative(\\theta_1(t), (t, 2)) - 2.0*Derivative(\\theta_2(t), t)*Derivative(r_2(t), t) - 1.0*Derivative(\\theta_2(t), (t, 2)))"
      ]
     },
     "execution_count": 12,
     "metadata": {},
     "output_type": "execute_result"
    }
   ],
   "source": [
    "LE1"
   ]
  },
  {
   "cell_type": "code",
   "execution_count": 13,
   "metadata": {},
   "outputs": [
    {
     "ename": "AttributeError",
     "evalue": "'list' object has no attribute 'args'",
     "output_type": "error",
     "traceback": [
      "\u001b[1;31m---------------------------------------------------------------------------\u001b[0m",
      "\u001b[1;31mAttributeError\u001b[0m                            Traceback (most recent call last)",
      "Cell \u001b[1;32mIn[13], line 3\u001b[0m\n\u001b[0;32m      1\u001b[0m \u001b[38;5;28;01mfrom\u001b[39;00m \u001b[38;5;21;01msympy\u001b[39;00m \u001b[38;5;28;01mimport\u001b[39;00m Eq\n\u001b[1;32m----> 3\u001b[0m dsols \u001b[38;5;241m=\u001b[39m \u001b[43msp\u001b[49m\u001b[38;5;241;43m.\u001b[39;49m\u001b[43mdsolve\u001b[49m\u001b[43m(\u001b[49m\n\u001b[0;32m      4\u001b[0m \u001b[43m  \u001b[49m\u001b[43m(\u001b[49m\u001b[43mEq\u001b[49m\u001b[43m(\u001b[49m\u001b[43mLE1\u001b[49m\u001b[43m,\u001b[49m\u001b[43m \u001b[49m\u001b[38;5;241;43m0\u001b[39;49m\u001b[43m)\u001b[49m\u001b[43m,\u001b[49m\u001b[43m \u001b[49m\u001b[43mEq\u001b[49m\u001b[43m(\u001b[49m\u001b[43mLE2\u001b[49m\u001b[43m,\u001b[49m\u001b[43m \u001b[49m\u001b[38;5;241;43m0\u001b[39;49m\u001b[43m)\u001b[49m\u001b[43m,\u001b[49m\u001b[43m \u001b[49m\u001b[43mEq\u001b[49m\u001b[43m(\u001b[49m\u001b[43mLE3\u001b[49m\u001b[43m,\u001b[49m\u001b[43m \u001b[49m\u001b[38;5;241;43m0\u001b[39;49m\u001b[43m)\u001b[49m\u001b[43m,\u001b[49m\u001b[43m \u001b[49m\u001b[43mEq\u001b[49m\u001b[43m(\u001b[49m\u001b[43mLE4\u001b[49m\u001b[43m,\u001b[49m\u001b[43m \u001b[49m\u001b[38;5;241;43m0\u001b[39;49m\u001b[43m)\u001b[49m\u001b[43m)\u001b[49m\u001b[43m,\u001b[49m\n\u001b[0;32m      5\u001b[0m \u001b[43m  \u001b[49m\u001b[43mics\u001b[49m\u001b[38;5;241;43m=\u001b[39;49m\u001b[43m{\u001b[49m\n\u001b[0;32m      6\u001b[0m \u001b[43m    \u001b[49m\u001b[43mthe1\u001b[49m\u001b[38;5;241;43m.\u001b[39;49m\u001b[43msubs\u001b[49m\u001b[43m(\u001b[49m\u001b[43mt\u001b[49m\u001b[43m,\u001b[49m\u001b[43m \u001b[49m\u001b[38;5;241;43m0\u001b[39;49m\u001b[43m)\u001b[49m\u001b[43m:\u001b[49m\u001b[43m \u001b[49m\u001b[38;5;241;43m0\u001b[39;49m\u001b[43m,\u001b[49m\n\u001b[0;32m      7\u001b[0m \u001b[43m    \u001b[49m\u001b[43mthe1_d\u001b[49m\u001b[38;5;241;43m.\u001b[39;49m\u001b[43msubs\u001b[49m\u001b[43m(\u001b[49m\u001b[43mt\u001b[49m\u001b[43m,\u001b[49m\u001b[43m \u001b[49m\u001b[38;5;241;43m0\u001b[39;49m\u001b[43m)\u001b[49m\u001b[43m:\u001b[49m\u001b[43m \u001b[49m\u001b[38;5;241;43m0\u001b[39;49m\u001b[43m,\u001b[49m\n\u001b[0;32m      8\u001b[0m \u001b[43m    \u001b[49m\u001b[43mthe2\u001b[49m\u001b[38;5;241;43m.\u001b[39;49m\u001b[43msubs\u001b[49m\u001b[43m(\u001b[49m\u001b[43mt\u001b[49m\u001b[43m,\u001b[49m\u001b[43m \u001b[49m\u001b[38;5;241;43m0\u001b[39;49m\u001b[43m)\u001b[49m\u001b[43m:\u001b[49m\u001b[43m \u001b[49m\u001b[38;5;241;43m0\u001b[39;49m\u001b[43m,\u001b[49m\n\u001b[0;32m      9\u001b[0m \u001b[43m    \u001b[49m\u001b[43mthe2_d\u001b[49m\u001b[38;5;241;43m.\u001b[39;49m\u001b[43msubs\u001b[49m\u001b[43m(\u001b[49m\u001b[43mt\u001b[49m\u001b[43m,\u001b[49m\u001b[43m \u001b[49m\u001b[38;5;241;43m0\u001b[39;49m\u001b[43m)\u001b[49m\u001b[43m:\u001b[49m\u001b[43m \u001b[49m\u001b[38;5;241;43m0\u001b[39;49m\u001b[43m,\u001b[49m\n\u001b[0;32m     10\u001b[0m \u001b[43m  \u001b[49m\u001b[43m}\u001b[49m\n\u001b[0;32m     11\u001b[0m \u001b[43m)\u001b[49m\n",
      "File \u001b[1;32mc:\\Users\\lurker\\miniconda3\\envs\\physics\\Lib\\site-packages\\sympy\\solvers\\ode\\ode.py:588\u001b[0m, in \u001b[0;36mdsolve\u001b[1;34m(eq, func, hint, simplify, ics, xi, eta, x0, n, **kwargs)\u001b[0m\n\u001b[0;32m    585\u001b[0m \u001b[38;5;28;01mexcept\u001b[39;00m \u001b[38;5;167;01mNotImplementedError\u001b[39;00m:\n\u001b[0;32m    586\u001b[0m     \u001b[38;5;28;01mpass\u001b[39;00m\n\u001b[1;32m--> 588\u001b[0m match \u001b[38;5;241m=\u001b[39m \u001b[43mclassify_sysode\u001b[49m\u001b[43m(\u001b[49m\u001b[43meq\u001b[49m\u001b[43m,\u001b[49m\u001b[43m \u001b[49m\u001b[43mfunc\u001b[49m\u001b[43m)\u001b[49m\n\u001b[0;32m    590\u001b[0m eq \u001b[38;5;241m=\u001b[39m match[\u001b[38;5;124m'\u001b[39m\u001b[38;5;124meq\u001b[39m\u001b[38;5;124m'\u001b[39m]\n\u001b[0;32m    591\u001b[0m order \u001b[38;5;241m=\u001b[39m match[\u001b[38;5;124m'\u001b[39m\u001b[38;5;124morder\u001b[39m\u001b[38;5;124m'\u001b[39m]\n",
      "File \u001b[1;32mc:\\Users\\lurker\\miniconda3\\envs\\physics\\Lib\\site-packages\\sympy\\solvers\\ode\\ode.py:1897\u001b[0m, in \u001b[0;36mclassify_sysode\u001b[1;34m(eq, funcs, **kwargs)\u001b[0m\n\u001b[0;32m   1895\u001b[0m \u001b[38;5;28;01mif\u001b[39;00m \u001b[38;5;28misinstance\u001b[39m(func, \u001b[38;5;28mlist\u001b[39m):\n\u001b[0;32m   1896\u001b[0m     \u001b[38;5;28;01mfor\u001b[39;00m func_elem \u001b[38;5;129;01min\u001b[39;00m func:\n\u001b[1;32m-> 1897\u001b[0m         \u001b[38;5;28;01mif\u001b[39;00m \u001b[38;5;28mlen\u001b[39m(\u001b[43mfunc_elem\u001b[49m\u001b[38;5;241;43m.\u001b[39;49m\u001b[43margs\u001b[49m) \u001b[38;5;241m!=\u001b[39m \u001b[38;5;241m1\u001b[39m:\n\u001b[0;32m   1898\u001b[0m             \u001b[38;5;28;01mraise\u001b[39;00m \u001b[38;5;167;01mValueError\u001b[39;00m(\u001b[38;5;124m\"\u001b[39m\u001b[38;5;124mdsolve() and classify_sysode() work with \u001b[39m\u001b[38;5;124m\"\u001b[39m\n\u001b[0;32m   1899\u001b[0m             \u001b[38;5;124m\"\u001b[39m\u001b[38;5;124mfunctions of one variable only, not \u001b[39m\u001b[38;5;132;01m%s\u001b[39;00m\u001b[38;5;124m\"\u001b[39m \u001b[38;5;241m%\u001b[39m func)\n\u001b[0;32m   1900\u001b[0m \u001b[38;5;28;01melse\u001b[39;00m:\n",
      "\u001b[1;31mAttributeError\u001b[0m: 'list' object has no attribute 'args'"
     ]
    }
   ],
   "source": [
    "from sympy import Eq\n",
    "\n",
    "dsols = sp.dsolve(\n",
    "  (Eq(LE1, 0), Eq(LE2, 0), Eq(LE3, 0), Eq(LE4, 0)),\n",
    "  ics={\n",
    "    the1.subs(t, 0): 0,\n",
    "    the1_d.subs(t, 0): 0,\n",
    "    the2.subs(t, 0): 0,\n",
    "    the2_d.subs(t, 0): 0,\n",
    "  }\n",
    ")"
   ]
  }
 ],
 "metadata": {
  "kernelspec": {
   "display_name": "Python 3",
   "language": "python",
   "name": "python3"
  },
  "language_info": {
   "codemirror_mode": {
    "name": "ipython",
    "version": 3
   },
   "file_extension": ".py",
   "mimetype": "text/x-python",
   "name": "python",
   "nbconvert_exporter": "python",
   "pygments_lexer": "ipython3",
   "version": "3.12.1"
  }
 },
 "nbformat": 4,
 "nbformat_minor": 4
}
