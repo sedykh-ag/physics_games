{
 "cells": [
  {
   "cell_type": "code",
   "execution_count": 1,
   "metadata": {},
   "outputs": [],
   "source": [
    "import numpy as np\n",
    "import sympy as sp"
   ]
  },
  {
   "cell_type": "code",
   "execution_count": 2,
   "metadata": {},
   "outputs": [],
   "source": [
    "t, m, g, k = sp.symbols('t, m, g, k')"
   ]
  },
  {
   "cell_type": "code",
   "execution_count": 3,
   "metadata": {},
   "outputs": [],
   "source": [
    "# get independent variables symbols\n",
    "the1 = sp.Function(r'\\theta_1')(t)\n",
    "the2 = sp.Function(r'\\theta_2')(t)\n",
    "\n",
    "r1 = sp.Function(r'r_1')(t)\n",
    "r2 = sp.Function(r'r_2')(t)\n",
    "\n",
    "# get their derivatives symbols\n",
    "the1_d = sp.diff(the1, t)\n",
    "the1_dd = sp.diff(the1_d, t)\n",
    "\n",
    "the2_d = sp.diff(the2, t)\n",
    "the2_dd = sp.diff(sp.diff(the2, t), t)\n",
    "\n",
    "r1_d = sp.diff(r1, t)\n",
    "r1_dd = sp.diff(sp.diff(r1, t), t)\n",
    "\n",
    "r2_d = sp.diff(r2, t)\n",
    "r2_dd = sp.diff(sp.diff(r2, t), t)\n",
    "\n",
    "# create symbol aliases for functions\n",
    "the1_T = sp.Symbol(r'\\theta_1')\n",
    "the2_T = sp.Symbol(r'\\theta_2')\n",
    "r1_T = sp.Symbol(r'r_1')\n",
    "r2_T = sp.Symbol(r'r_2')\n",
    "\n",
    "the1_d_T = sp.Symbol(r'\\dot{\\theta_1}')\n",
    "the2_d_T = sp.Symbol(r'\\dot{\\theta_2}')\n",
    "r1_d_T = sp.Symbol(r'\\dot{r_1}')\n",
    "r2_d_T = sp.Symbol(r'\\dot{r_2}')\n",
    "\n",
    "the1_dd_T = sp.Symbol(r'\\ddot{\\theta_1}')\n",
    "the2_dd_T = sp.Symbol(r'\\ddot{\\theta_2}')\n",
    "r1_dd_T = sp.Symbol(r'\\ddot{r_1}')\n",
    "r2_dd_T = sp.Symbol(r'\\ddot{r_2}')\n",
    "\n",
    "to_sym = {\n",
    "  the1 : the1_T,\n",
    "  the2 : the2_T,\n",
    "  r1 : r1_T,\n",
    "  r2 : r2_T,\n",
    "\n",
    "  the1_d : the1_d_T,\n",
    "  the2_d : the2_d_T,\n",
    "  r1_d : r1_d_T,\n",
    "  r2_d : r2_d_T,\n",
    "\n",
    "  the1_dd : the1_dd_T,\n",
    "  the2_dd : the2_dd_T,\n",
    "  r1_dd : r1_dd_T,\n",
    "  r2_dd : r2_dd_T,\n",
    "}\n",
    "\n",
    "to_func = dict(zip(to_sym.values(), to_sym.keys())) # reversed dict"
   ]
  },
  {
   "cell_type": "code",
   "execution_count": 4,
   "metadata": {},
   "outputs": [],
   "source": [
    "# get cartesian coords from r and theta\n",
    "x1 = (1+r1)*sp.sin(the1)\n",
    "y1 = -(1+r1)*sp.cos(the1)\n",
    "x2 = (1+r1)*sp.sin(the1) + (1+r2)*sp.sin(the2)\n",
    "y2 = -(1+r1)*sp.cos(the1) - (1+r2)*sp.cos(the2)"
   ]
  },
  {
   "cell_type": "code",
   "execution_count": 5,
   "metadata": {},
   "outputs": [],
   "source": [
    "T = 1/2 * m * (sp.diff(x1, t)**2 + sp.diff(y1, t)**2 + \\\n",
    "               sp.diff(x2, t)**2 + + sp.diff(y2, t)**2)\n",
    "V = m*g*y1 + m*g*y2 + 1/2 * k * r1**2 + 1/2 * k * r2**2\n",
    "L = T - V"
   ]
  },
  {
   "cell_type": "code",
   "execution_count": 6,
   "metadata": {},
   "outputs": [
    {
     "data": {
      "text/latex": [
       "$\\displaystyle - g m \\left(\\left(- \\operatorname{r_{1}}{\\left(t \\right)} - 1\\right) \\cos{\\left(\\theta_{1}{\\left(t \\right)} \\right)} - \\left(\\operatorname{r_{2}}{\\left(t \\right)} + 1\\right) \\cos{\\left(\\theta_{2}{\\left(t \\right)} \\right)}\\right) - g m \\left(- \\operatorname{r_{1}}{\\left(t \\right)} - 1\\right) \\cos{\\left(\\theta_{1}{\\left(t \\right)} \\right)} - 0.5 k \\operatorname{r_{1}}^{2}{\\left(t \\right)} - 0.5 k \\operatorname{r_{2}}^{2}{\\left(t \\right)} + 0.5 m \\left(\\left(- \\left(- \\operatorname{r_{1}}{\\left(t \\right)} - 1\\right) \\sin{\\left(\\theta_{1}{\\left(t \\right)} \\right)} \\frac{d}{d t} \\theta_{1}{\\left(t \\right)} - \\cos{\\left(\\theta_{1}{\\left(t \\right)} \\right)} \\frac{d}{d t} \\operatorname{r_{1}}{\\left(t \\right)}\\right)^{2} + \\left(\\left(\\operatorname{r_{1}}{\\left(t \\right)} + 1\\right) \\cos{\\left(\\theta_{1}{\\left(t \\right)} \\right)} \\frac{d}{d t} \\theta_{1}{\\left(t \\right)} + \\sin{\\left(\\theta_{1}{\\left(t \\right)} \\right)} \\frac{d}{d t} \\operatorname{r_{1}}{\\left(t \\right)}\\right)^{2} + \\left(- \\left(- \\operatorname{r_{1}}{\\left(t \\right)} - 1\\right) \\sin{\\left(\\theta_{1}{\\left(t \\right)} \\right)} \\frac{d}{d t} \\theta_{1}{\\left(t \\right)} - \\left(- \\operatorname{r_{2}}{\\left(t \\right)} - 1\\right) \\sin{\\left(\\theta_{2}{\\left(t \\right)} \\right)} \\frac{d}{d t} \\theta_{2}{\\left(t \\right)} - \\cos{\\left(\\theta_{1}{\\left(t \\right)} \\right)} \\frac{d}{d t} \\operatorname{r_{1}}{\\left(t \\right)} - \\cos{\\left(\\theta_{2}{\\left(t \\right)} \\right)} \\frac{d}{d t} \\operatorname{r_{2}}{\\left(t \\right)}\\right)^{2} + \\left(\\left(\\operatorname{r_{1}}{\\left(t \\right)} + 1\\right) \\cos{\\left(\\theta_{1}{\\left(t \\right)} \\right)} \\frac{d}{d t} \\theta_{1}{\\left(t \\right)} + \\left(\\operatorname{r_{2}}{\\left(t \\right)} + 1\\right) \\cos{\\left(\\theta_{2}{\\left(t \\right)} \\right)} \\frac{d}{d t} \\theta_{2}{\\left(t \\right)} + \\sin{\\left(\\theta_{1}{\\left(t \\right)} \\right)} \\frac{d}{d t} \\operatorname{r_{1}}{\\left(t \\right)} + \\sin{\\left(\\theta_{2}{\\left(t \\right)} \\right)} \\frac{d}{d t} \\operatorname{r_{2}}{\\left(t \\right)}\\right)^{2}\\right)$"
      ],
      "text/plain": [
       "-g*m*((-r_1(t) - 1)*cos(\\theta_1(t)) - (r_2(t) + 1)*cos(\\theta_2(t))) - g*m*(-r_1(t) - 1)*cos(\\theta_1(t)) - 0.5*k*r_1(t)**2 - 0.5*k*r_2(t)**2 + 0.5*m*((-(-r_1(t) - 1)*sin(\\theta_1(t))*Derivative(\\theta_1(t), t) - cos(\\theta_1(t))*Derivative(r_1(t), t))**2 + ((r_1(t) + 1)*cos(\\theta_1(t))*Derivative(\\theta_1(t), t) + sin(\\theta_1(t))*Derivative(r_1(t), t))**2 + (-(-r_1(t) - 1)*sin(\\theta_1(t))*Derivative(\\theta_1(t), t) - (-r_2(t) - 1)*sin(\\theta_2(t))*Derivative(\\theta_2(t), t) - cos(\\theta_1(t))*Derivative(r_1(t), t) - cos(\\theta_2(t))*Derivative(r_2(t), t))**2 + ((r_1(t) + 1)*cos(\\theta_1(t))*Derivative(\\theta_1(t), t) + (r_2(t) + 1)*cos(\\theta_2(t))*Derivative(\\theta_2(t), t) + sin(\\theta_1(t))*Derivative(r_1(t), t) + sin(\\theta_2(t))*Derivative(r_2(t), t))**2)"
      ]
     },
     "execution_count": 6,
     "metadata": {},
     "output_type": "execute_result"
    }
   ],
   "source": [
    "L"
   ]
  },
  {
   "cell_type": "code",
   "execution_count": 7,
   "metadata": {},
   "outputs": [],
   "source": [
    "LE1 = sp.diff(L, the1) - sp.diff(sp.diff(L, the1_d), t)\n",
    "LE1 = LE1.simplify()"
   ]
  },
  {
   "cell_type": "code",
   "execution_count": 8,
   "metadata": {},
   "outputs": [],
   "source": [
    "LE2 = sp.diff(L, the2) - sp.diff(sp.diff(L, the2_d), t)\n",
    "LE2 = LE2.simplify()"
   ]
  },
  {
   "cell_type": "code",
   "execution_count": 9,
   "metadata": {},
   "outputs": [],
   "source": [
    "LE3 = sp.diff(L, r1) - sp.diff(sp.diff(L, r1_d), t)\n",
    "LE3 = LE3.simplify()"
   ]
  },
  {
   "cell_type": "code",
   "execution_count": 10,
   "metadata": {},
   "outputs": [],
   "source": [
    "LE4 = sp.diff(L, r2) - sp.diff(sp.diff(L, r2_d), t)\n",
    "LE4 = LE4.simplify()"
   ]
  },
  {
   "cell_type": "code",
   "execution_count": 11,
   "metadata": {},
   "outputs": [
    {
     "data": {
      "text/latex": [
       "$\\displaystyle m \\left(- 2 g \\operatorname{r_{1}}{\\left(t \\right)} \\sin{\\left(\\theta_{1}{\\left(t \\right)} \\right)} - 2 g \\sin{\\left(\\theta_{1}{\\left(t \\right)} \\right)} - 2 \\operatorname{r_{1}}^{2}{\\left(t \\right)} \\frac{d^{2}}{d t^{2}} \\theta_{1}{\\left(t \\right)} - \\operatorname{r_{1}}{\\left(t \\right)} \\operatorname{r_{2}}{\\left(t \\right)} \\sin{\\left(\\theta_{1}{\\left(t \\right)} - \\theta_{2}{\\left(t \\right)} \\right)} \\left(\\frac{d}{d t} \\theta_{2}{\\left(t \\right)}\\right)^{2} - \\operatorname{r_{1}}{\\left(t \\right)} \\operatorname{r_{2}}{\\left(t \\right)} \\cos{\\left(\\theta_{1}{\\left(t \\right)} - \\theta_{2}{\\left(t \\right)} \\right)} \\frac{d^{2}}{d t^{2}} \\theta_{2}{\\left(t \\right)} - \\operatorname{r_{1}}{\\left(t \\right)} \\sin{\\left(\\theta_{1}{\\left(t \\right)} - \\theta_{2}{\\left(t \\right)} \\right)} \\left(\\frac{d}{d t} \\theta_{2}{\\left(t \\right)}\\right)^{2} + \\operatorname{r_{1}}{\\left(t \\right)} \\sin{\\left(\\theta_{1}{\\left(t \\right)} - \\theta_{2}{\\left(t \\right)} \\right)} \\frac{d^{2}}{d t^{2}} \\operatorname{r_{2}}{\\left(t \\right)} - 2 \\operatorname{r_{1}}{\\left(t \\right)} \\cos{\\left(\\theta_{1}{\\left(t \\right)} - \\theta_{2}{\\left(t \\right)} \\right)} \\frac{d}{d t} \\theta_{2}{\\left(t \\right)} \\frac{d}{d t} \\operatorname{r_{2}}{\\left(t \\right)} - \\operatorname{r_{1}}{\\left(t \\right)} \\cos{\\left(\\theta_{1}{\\left(t \\right)} - \\theta_{2}{\\left(t \\right)} \\right)} \\frac{d^{2}}{d t^{2}} \\theta_{2}{\\left(t \\right)} - 4 \\operatorname{r_{1}}{\\left(t \\right)} \\frac{d}{d t} \\theta_{1}{\\left(t \\right)} \\frac{d}{d t} \\operatorname{r_{1}}{\\left(t \\right)} - 4 \\operatorname{r_{1}}{\\left(t \\right)} \\frac{d^{2}}{d t^{2}} \\theta_{1}{\\left(t \\right)} - \\operatorname{r_{2}}{\\left(t \\right)} \\sin{\\left(\\theta_{1}{\\left(t \\right)} - \\theta_{2}{\\left(t \\right)} \\right)} \\left(\\frac{d}{d t} \\theta_{2}{\\left(t \\right)}\\right)^{2} - \\operatorname{r_{2}}{\\left(t \\right)} \\cos{\\left(\\theta_{1}{\\left(t \\right)} - \\theta_{2}{\\left(t \\right)} \\right)} \\frac{d^{2}}{d t^{2}} \\theta_{2}{\\left(t \\right)} - \\sin{\\left(\\theta_{1}{\\left(t \\right)} - \\theta_{2}{\\left(t \\right)} \\right)} \\left(\\frac{d}{d t} \\theta_{2}{\\left(t \\right)}\\right)^{2} + \\sin{\\left(\\theta_{1}{\\left(t \\right)} - \\theta_{2}{\\left(t \\right)} \\right)} \\frac{d^{2}}{d t^{2}} \\operatorname{r_{2}}{\\left(t \\right)} - 2 \\cos{\\left(\\theta_{1}{\\left(t \\right)} - \\theta_{2}{\\left(t \\right)} \\right)} \\frac{d}{d t} \\theta_{2}{\\left(t \\right)} \\frac{d}{d t} \\operatorname{r_{2}}{\\left(t \\right)} - \\cos{\\left(\\theta_{1}{\\left(t \\right)} - \\theta_{2}{\\left(t \\right)} \\right)} \\frac{d^{2}}{d t^{2}} \\theta_{2}{\\left(t \\right)} - 4 \\frac{d}{d t} \\theta_{1}{\\left(t \\right)} \\frac{d}{d t} \\operatorname{r_{1}}{\\left(t \\right)} - 2 \\frac{d^{2}}{d t^{2}} \\theta_{1}{\\left(t \\right)}\\right)$"
      ],
      "text/plain": [
       "m*(-2*g*r_1(t)*sin(\\theta_1(t)) - 2*g*sin(\\theta_1(t)) - 2*r_1(t)**2*Derivative(\\theta_1(t), (t, 2)) - r_1(t)*r_2(t)*sin(\\theta_1(t) - \\theta_2(t))*Derivative(\\theta_2(t), t)**2 - r_1(t)*r_2(t)*cos(\\theta_1(t) - \\theta_2(t))*Derivative(\\theta_2(t), (t, 2)) - r_1(t)*sin(\\theta_1(t) - \\theta_2(t))*Derivative(\\theta_2(t), t)**2 + r_1(t)*sin(\\theta_1(t) - \\theta_2(t))*Derivative(r_2(t), (t, 2)) - 2*r_1(t)*cos(\\theta_1(t) - \\theta_2(t))*Derivative(\\theta_2(t), t)*Derivative(r_2(t), t) - r_1(t)*cos(\\theta_1(t) - \\theta_2(t))*Derivative(\\theta_2(t), (t, 2)) - 4*r_1(t)*Derivative(\\theta_1(t), t)*Derivative(r_1(t), t) - 4*r_1(t)*Derivative(\\theta_1(t), (t, 2)) - r_2(t)*sin(\\theta_1(t) - \\theta_2(t))*Derivative(\\theta_2(t), t)**2 - r_2(t)*cos(\\theta_1(t) - \\theta_2(t))*Derivative(\\theta_2(t), (t, 2)) - sin(\\theta_1(t) - \\theta_2(t))*Derivative(\\theta_2(t), t)**2 + sin(\\theta_1(t) - \\theta_2(t))*Derivative(r_2(t), (t, 2)) - 2*cos(\\theta_1(t) - \\theta_2(t))*Derivative(\\theta_2(t), t)*Derivative(r_2(t), t) - cos(\\theta_1(t) - \\theta_2(t))*Derivative(\\theta_2(t), (t, 2)) - 4*Derivative(\\theta_1(t), t)*Derivative(r_1(t), t) - 2*Derivative(\\theta_1(t), (t, 2)))"
      ]
     },
     "execution_count": 11,
     "metadata": {},
     "output_type": "execute_result"
    }
   ],
   "source": [
    "LE1"
   ]
  },
  {
   "cell_type": "code",
   "execution_count": 12,
   "metadata": {},
   "outputs": [
    {
     "data": {
      "text/latex": [
       "$\\displaystyle 1.0 g m \\cos{\\left(\\theta_{2}{\\left(t \\right)} \\right)} - 1.0 k \\operatorname{r_{2}}{\\left(t \\right)} + 1.0 m \\operatorname{r_{1}}{\\left(t \\right)} \\sin{\\left(\\theta_{1}{\\left(t \\right)} - \\theta_{2}{\\left(t \\right)} \\right)} \\frac{d^{2}}{d t^{2}} \\theta_{1}{\\left(t \\right)} + 1.0 m \\operatorname{r_{1}}{\\left(t \\right)} \\cos{\\left(\\theta_{1}{\\left(t \\right)} - \\theta_{2}{\\left(t \\right)} \\right)} \\left(\\frac{d}{d t} \\theta_{1}{\\left(t \\right)}\\right)^{2} + 1.0 m \\operatorname{r_{2}}{\\left(t \\right)} \\left(\\frac{d}{d t} \\theta_{2}{\\left(t \\right)}\\right)^{2} + 2.0 m \\sin{\\left(\\theta_{1}{\\left(t \\right)} - \\theta_{2}{\\left(t \\right)} \\right)} \\frac{d}{d t} \\theta_{1}{\\left(t \\right)} \\frac{d}{d t} \\operatorname{r_{1}}{\\left(t \\right)} + 1.0 m \\sin{\\left(\\theta_{1}{\\left(t \\right)} - \\theta_{2}{\\left(t \\right)} \\right)} \\frac{d^{2}}{d t^{2}} \\theta_{1}{\\left(t \\right)} + 1.0 m \\cos{\\left(\\theta_{1}{\\left(t \\right)} - \\theta_{2}{\\left(t \\right)} \\right)} \\left(\\frac{d}{d t} \\theta_{1}{\\left(t \\right)}\\right)^{2} - 1.0 m \\cos{\\left(\\theta_{1}{\\left(t \\right)} - \\theta_{2}{\\left(t \\right)} \\right)} \\frac{d^{2}}{d t^{2}} \\operatorname{r_{1}}{\\left(t \\right)} + 1.0 m \\left(\\frac{d}{d t} \\theta_{2}{\\left(t \\right)}\\right)^{2} - 1.0 m \\frac{d^{2}}{d t^{2}} \\operatorname{r_{2}}{\\left(t \\right)}$"
      ],
      "text/plain": [
       "1.0*g*m*cos(\\theta_2(t)) - 1.0*k*r_2(t) + 1.0*m*r_1(t)*sin(\\theta_1(t) - \\theta_2(t))*Derivative(\\theta_1(t), (t, 2)) + 1.0*m*r_1(t)*cos(\\theta_1(t) - \\theta_2(t))*Derivative(\\theta_1(t), t)**2 + 1.0*m*r_2(t)*Derivative(\\theta_2(t), t)**2 + 2.0*m*sin(\\theta_1(t) - \\theta_2(t))*Derivative(\\theta_1(t), t)*Derivative(r_1(t), t) + 1.0*m*sin(\\theta_1(t) - \\theta_2(t))*Derivative(\\theta_1(t), (t, 2)) + 1.0*m*cos(\\theta_1(t) - \\theta_2(t))*Derivative(\\theta_1(t), t)**2 - 1.0*m*cos(\\theta_1(t) - \\theta_2(t))*Derivative(r_1(t), (t, 2)) + 1.0*m*Derivative(\\theta_2(t), t)**2 - 1.0*m*Derivative(r_2(t), (t, 2))"
      ]
     },
     "execution_count": 12,
     "metadata": {},
     "output_type": "execute_result"
    }
   ],
   "source": [
    "LE4"
   ]
  },
  {
   "cell_type": "markdown",
   "metadata": {},
   "source": [
    "# Series expansion of Euler-Lagrange equations"
   ]
  },
  {
   "cell_type": "code",
   "execution_count": 13,
   "metadata": {},
   "outputs": [],
   "source": [
    "eqs = [LE1, LE2, LE3, LE4]"
   ]
  },
  {
   "cell_type": "code",
   "execution_count": 14,
   "metadata": {},
   "outputs": [],
   "source": [
    "symbols = list(to_func.keys())"
   ]
  },
  {
   "cell_type": "code",
   "execution_count": 15,
   "metadata": {},
   "outputs": [],
   "source": [
    "reduced_eqs = []\n",
    "\n",
    "for eq in eqs:\n",
    "  symeq = eq.subs(to_sym)\n",
    "\n",
    "  # theta reduction\n",
    "  symeq = symeq.series(the1_T, n=2).removeO()\n",
    "  symeq = symeq.series(the2_T, n=2).removeO()\n",
    "\n",
    "  symeq = symeq.series(the1_d_T, n=2).removeO()\n",
    "  symeq = symeq.series(the2_d_T, n=2).removeO()\n",
    "\n",
    "  symeq = symeq.series(the1_dd_T, n=2).removeO()\n",
    "  symeq = symeq.series(the2_dd_T, n=2).removeO()\n",
    "\n",
    "  # r reduction\n",
    "  symeq = symeq.series(r1_T, n=2).removeO()\n",
    "  symeq = symeq.series(r2_T, n=2).removeO()\n",
    "\n",
    "  symeq = symeq.series(r1_d_T, n=2).removeO()\n",
    "  symeq = symeq.series(r2_d_T, n=2).removeO()\n",
    "\n",
    "  symeq = symeq.series(r1_dd_T, n=2).removeO()\n",
    "  symeq = symeq.series(r2_dd_T, n=2).removeO()\n",
    "\n",
    "  # linearization\n",
    "  for symbol_1 in symbols:\n",
    "    for symbol_2 in symbols:\n",
    "      # print(\"performing reduction of\", symbol_1 * symbol_2)\n",
    "      symeq = (symeq + sp.O(symbol_1 * symbol_2)).removeO()\n",
    "  \n",
    "  reduced_eqs.append(symeq.subs(to_func))"
   ]
  },
  {
   "cell_type": "code",
   "execution_count": 16,
   "metadata": {},
   "outputs": [
    {
     "data": {
      "text/latex": [
       "$\\displaystyle - 2 g m \\theta_{1}{\\left(t \\right)} - 2 m \\frac{d^{2}}{d t^{2}} \\theta_{1}{\\left(t \\right)} - m \\frac{d^{2}}{d t^{2}} \\theta_{2}{\\left(t \\right)} + \\left(m \\theta_{1}{\\left(t \\right)} \\operatorname{r_{1}}{\\left(t \\right)} + m \\theta_{1}{\\left(t \\right)} - m \\theta_{2}{\\left(t \\right)} \\operatorname{r_{1}}{\\left(t \\right)} - m \\theta_{2}{\\left(t \\right)}\\right) \\frac{d^{2}}{d t^{2}} \\operatorname{r_{2}}{\\left(t \\right)}$"
      ],
      "text/plain": [
       "-2*g*m*\\theta_1(t) - 2*m*Derivative(\\theta_1(t), (t, 2)) - m*Derivative(\\theta_2(t), (t, 2)) + (m*\\theta_1(t)*r_1(t) + m*\\theta_1(t) - m*\\theta_2(t)*r_1(t) - m*\\theta_2(t))*Derivative(r_2(t), (t, 2))"
      ]
     },
     "execution_count": 16,
     "metadata": {},
     "output_type": "execute_result"
    }
   ],
   "source": [
    "reduced_eqs[0]"
   ]
  },
  {
   "cell_type": "code",
   "execution_count": 17,
   "metadata": {},
   "outputs": [
    {
     "data": {
      "text/latex": [
       "$\\displaystyle - 2 g m \\theta_{1}{\\left(t \\right)} - 2 m \\frac{d^{2}}{d t^{2}} \\theta_{1}{\\left(t \\right)} - m \\frac{d^{2}}{d t^{2}} \\theta_{2}{\\left(t \\right)}$"
      ],
      "text/plain": [
       "-2*g*m*\\theta_1(t) - 2*m*Derivative(\\theta_1(t), (t, 2)) - m*Derivative(\\theta_2(t), (t, 2))"
      ]
     },
     "execution_count": 17,
     "metadata": {},
     "output_type": "execute_result"
    }
   ],
   "source": [
    "reduced_eqs[0] = -2*g*m*the1 -2*m*the1_dd - m*the2_dd\n",
    "reduced_eqs[0]"
   ]
  },
  {
   "cell_type": "code",
   "execution_count": 18,
   "metadata": {},
   "outputs": [
    {
     "data": {
      "text/latex": [
       "$\\displaystyle - g m \\theta_{2}{\\left(t \\right)} - m \\frac{d^{2}}{d t^{2}} \\theta_{1}{\\left(t \\right)} - m \\frac{d^{2}}{d t^{2}} \\theta_{2}{\\left(t \\right)} + \\left(- m \\theta_{1}{\\left(t \\right)} \\operatorname{r_{2}}{\\left(t \\right)} - m \\theta_{1}{\\left(t \\right)} + m \\theta_{2}{\\left(t \\right)} \\operatorname{r_{2}}{\\left(t \\right)} + m \\theta_{2}{\\left(t \\right)}\\right) \\frac{d^{2}}{d t^{2}} \\operatorname{r_{1}}{\\left(t \\right)}$"
      ],
      "text/plain": [
       "-g*m*\\theta_2(t) - m*Derivative(\\theta_1(t), (t, 2)) - m*Derivative(\\theta_2(t), (t, 2)) + (-m*\\theta_1(t)*r_2(t) - m*\\theta_1(t) + m*\\theta_2(t)*r_2(t) + m*\\theta_2(t))*Derivative(r_1(t), (t, 2))"
      ]
     },
     "execution_count": 18,
     "metadata": {},
     "output_type": "execute_result"
    }
   ],
   "source": [
    "reduced_eqs[1]"
   ]
  },
  {
   "cell_type": "code",
   "execution_count": 19,
   "metadata": {},
   "outputs": [
    {
     "data": {
      "text/latex": [
       "$\\displaystyle - g m \\theta_{2}{\\left(t \\right)} - m \\frac{d^{2}}{d t^{2}} \\theta_{1}{\\left(t \\right)} - m \\frac{d^{2}}{d t^{2}} \\theta_{2}{\\left(t \\right)}$"
      ],
      "text/plain": [
       "-g*m*\\theta_2(t) - m*Derivative(\\theta_1(t), (t, 2)) - m*Derivative(\\theta_2(t), (t, 2))"
      ]
     },
     "execution_count": 19,
     "metadata": {},
     "output_type": "execute_result"
    }
   ],
   "source": [
    "reduced_eqs[1] = -g*m*the2 - m*the1_dd - m*the2_dd\n",
    "reduced_eqs[1]"
   ]
  },
  {
   "cell_type": "code",
   "execution_count": 20,
   "metadata": {},
   "outputs": [
    {
     "data": {
      "text/latex": [
       "$\\displaystyle 2.0 g m - 1.0 k \\operatorname{r_{1}}{\\left(t \\right)} - 2.0 m \\frac{d^{2}}{d t^{2}} \\operatorname{r_{1}}{\\left(t \\right)} + \\left(- 1.0 m \\theta_{1}{\\left(t \\right)} \\theta_{2}{\\left(t \\right)} - 1.0 m\\right) \\frac{d^{2}}{d t^{2}} \\operatorname{r_{2}}{\\left(t \\right)}$"
      ],
      "text/plain": [
       "2.0*g*m - 1.0*k*r_1(t) - 2.0*m*Derivative(r_1(t), (t, 2)) + (-1.0*m*\\theta_1(t)*\\theta_2(t) - 1.0*m)*Derivative(r_2(t), (t, 2))"
      ]
     },
     "execution_count": 20,
     "metadata": {},
     "output_type": "execute_result"
    }
   ],
   "source": [
    "reduced_eqs[2]"
   ]
  },
  {
   "cell_type": "code",
   "execution_count": 21,
   "metadata": {},
   "outputs": [
    {
     "data": {
      "text/latex": [
       "$\\displaystyle 2 g m - k \\operatorname{r_{1}}{\\left(t \\right)} - 2 m \\frac{d^{2}}{d t^{2}} \\operatorname{r_{1}}{\\left(t \\right)} - m \\frac{d^{2}}{d t^{2}} \\operatorname{r_{2}}{\\left(t \\right)}$"
      ],
      "text/plain": [
       "2*g*m - k*r_1(t) - 2*m*Derivative(r_1(t), (t, 2)) - m*Derivative(r_2(t), (t, 2))"
      ]
     },
     "execution_count": 21,
     "metadata": {},
     "output_type": "execute_result"
    }
   ],
   "source": [
    "reduced_eqs[2] = 2*g*m - k*r1 - 2*m*r1_dd - m*r2_dd\n",
    "reduced_eqs[2]"
   ]
  },
  {
   "cell_type": "code",
   "execution_count": 22,
   "metadata": {},
   "outputs": [
    {
     "data": {
      "text/latex": [
       "$\\displaystyle 1.0 g m - 1.0 k \\operatorname{r_{2}}{\\left(t \\right)} - 1.0 m \\frac{d^{2}}{d t^{2}} \\operatorname{r_{2}}{\\left(t \\right)} + \\left(- 1.0 m \\theta_{1}{\\left(t \\right)} \\theta_{2}{\\left(t \\right)} - 1.0 m\\right) \\frac{d^{2}}{d t^{2}} \\operatorname{r_{1}}{\\left(t \\right)}$"
      ],
      "text/plain": [
       "1.0*g*m - 1.0*k*r_2(t) - 1.0*m*Derivative(r_2(t), (t, 2)) + (-1.0*m*\\theta_1(t)*\\theta_2(t) - 1.0*m)*Derivative(r_1(t), (t, 2))"
      ]
     },
     "execution_count": 22,
     "metadata": {},
     "output_type": "execute_result"
    }
   ],
   "source": [
    "reduced_eqs[3]"
   ]
  },
  {
   "cell_type": "code",
   "execution_count": 23,
   "metadata": {},
   "outputs": [
    {
     "data": {
      "text/latex": [
       "$\\displaystyle g m - k \\operatorname{r_{2}}{\\left(t \\right)} - m \\frac{d^{2}}{d t^{2}} \\operatorname{r_{1}}{\\left(t \\right)} - m \\frac{d^{2}}{d t^{2}} \\operatorname{r_{2}}{\\left(t \\right)}$"
      ],
      "text/plain": [
       "g*m - k*r_2(t) - m*Derivative(r_1(t), (t, 2)) - m*Derivative(r_2(t), (t, 2))"
      ]
     },
     "execution_count": 23,
     "metadata": {},
     "output_type": "execute_result"
    }
   ],
   "source": [
    "reduced_eqs[3] = g*m - k*r2 - m*r2_dd - m*r1_dd\n",
    "reduced_eqs[3]"
   ]
  },
  {
   "cell_type": "code",
   "execution_count": 24,
   "metadata": {},
   "outputs": [],
   "source": [
    "sols = sp.solve(reduced_eqs, (the1_dd, the2_dd, r1_dd, r2_dd))"
   ]
  },
  {
   "cell_type": "code",
   "execution_count": 25,
   "metadata": {},
   "outputs": [],
   "source": [
    "eqs = [\n",
    "  sols[the1_dd], \n",
    "  sols[the2_dd],\n",
    "  sols[r1_dd], \n",
    "  sols[r2_dd],\n",
    "]"
   ]
  },
  {
   "cell_type": "markdown",
   "metadata": {},
   "source": [
    "# Analytical solution"
   ]
  },
  {
   "cell_type": "code",
   "execution_count": 26,
   "metadata": {},
   "outputs": [],
   "source": [
    "# reduced_equalities = [sp.Eq(reduced_eqs[i], 0) for i in range(4)]\n",
    "reduced_equalities = [\n",
    "  sp.Eq(the1_dd, eqs[0]),\n",
    "  sp.Eq(the2_dd, eqs[1]),\n",
    "  sp.Eq(r1_dd, eqs[2]),\n",
    "  sp.Eq(r2_dd, eqs[3]),\n",
    "]"
   ]
  },
  {
   "cell_type": "code",
   "execution_count": 27,
   "metadata": {},
   "outputs": [],
   "source": [
    "from sympy.solvers.ode.systems import dsolve_system\n",
    "\n",
    "dsols = dsolve_system(\n",
    "  reduced_eqs,\n",
    "  [the1, the2, r1, r2],\n",
    "  ics={\n",
    "    the1.subs(t, 0): sp.pi / 12,\n",
    "    the1_d.subs(t, 0): 0,\n",
    "\n",
    "    the2.subs(t, 0): 3 * sp.pi / 12,\n",
    "    the2_d.subs(t, 0): 0,\n",
    "\n",
    "    r1.subs(t, 0): 0,\n",
    "    r1_d.subs(t, 0): 2,\n",
    "\n",
    "    r2.subs(t, 0): 0,\n",
    "    r2_d.subs(t, 0): 2,\n",
    "  }\n",
    ")"
   ]
  },
  {
   "cell_type": "code",
   "execution_count": 28,
   "metadata": {},
   "outputs": [
    {
     "data": {
      "text/plain": [
       "{C4, g, t}"
      ]
     },
     "execution_count": 28,
     "metadata": {},
     "output_type": "execute_result"
    }
   ],
   "source": [
    "dsols[0][0].free_symbols"
   ]
  },
  {
   "cell_type": "code",
   "execution_count": 29,
   "metadata": {},
   "outputs": [
    {
     "data": {
      "text/plain": [
       "{C4, g, t}"
      ]
     },
     "execution_count": 29,
     "metadata": {},
     "output_type": "execute_result"
    }
   ],
   "source": [
    "dsols[0][1].free_symbols"
   ]
  },
  {
   "cell_type": "code",
   "execution_count": 30,
   "metadata": {},
   "outputs": [
    {
     "data": {
      "text/plain": [
       "{C7, C8, g, k, m, t}"
      ]
     },
     "execution_count": 30,
     "metadata": {},
     "output_type": "execute_result"
    }
   ],
   "source": [
    "dsols[0][2].free_symbols"
   ]
  },
  {
   "cell_type": "code",
   "execution_count": 31,
   "metadata": {},
   "outputs": [
    {
     "data": {
      "text/plain": [
       "{C7, C8, g, k, m, t}"
      ]
     },
     "execution_count": 31,
     "metadata": {},
     "output_type": "execute_result"
    }
   ],
   "source": [
    "dsols[0][3].free_symbols"
   ]
  },
  {
   "cell_type": "code",
   "execution_count": 32,
   "metadata": {},
   "outputs": [],
   "source": [
    "C1, C2, C3, C4, C5, C6, C7, C8 = sp.symbols(\"C1, C2, C3, C4, C5, C6, C7, C8\")\n",
    "CS = [C1, C2, C3, C4, C5, C6, C7, C8]"
   ]
  },
  {
   "cell_type": "code",
   "execution_count": 33,
   "metadata": {},
   "outputs": [],
   "source": [
    "# force remove constants \n",
    "\n",
    "analytical_sols = []\n",
    "for i in range(4):\n",
    "  dsol = dsols[0][i].rhs\n",
    "\n",
    "  for C in CS:\n",
    "    dsol = dsol.subs(C, 0)\n",
    "  \n",
    "  dsol = dsol.doit()\n",
    "  \n",
    "  analytical_sols.append(dsol)"
   ]
  },
  {
   "cell_type": "code",
   "execution_count": 38,
   "metadata": {},
   "outputs": [
    {
     "data": {
      "text/plain": [
       "{g, t}"
      ]
     },
     "execution_count": 38,
     "metadata": {},
     "output_type": "execute_result"
    }
   ],
   "source": [
    "analytical_sols[0].free_symbols"
   ]
  },
  {
   "cell_type": "code",
   "execution_count": 39,
   "metadata": {},
   "outputs": [
    {
     "data": {
      "text/plain": [
       "{g, t}"
      ]
     },
     "execution_count": 39,
     "metadata": {},
     "output_type": "execute_result"
    }
   ],
   "source": [
    "analytical_sols[1].free_symbols"
   ]
  },
  {
   "cell_type": "code",
   "execution_count": 40,
   "metadata": {},
   "outputs": [
    {
     "data": {
      "text/plain": [
       "{g, k, m, t}"
      ]
     },
     "execution_count": 40,
     "metadata": {},
     "output_type": "execute_result"
    }
   ],
   "source": [
    "analytical_sols[2].free_symbols"
   ]
  },
  {
   "cell_type": "code",
   "execution_count": 41,
   "metadata": {},
   "outputs": [
    {
     "data": {
      "text/plain": [
       "{g, k, m, t}"
      ]
     },
     "execution_count": 41,
     "metadata": {},
     "output_type": "execute_result"
    }
   ],
   "source": [
    "analytical_sols[3].free_symbols"
   ]
  },
  {
   "cell_type": "code",
   "execution_count": 54,
   "metadata": {},
   "outputs": [],
   "source": [
    "the1_f = lambda m_, k_, g_, t_: complex(analytical_sols[0].subs(m, m_).subs(k, k_).subs(g, g_).subs(t, t_)).real\n",
    "the2_f = lambda m_, k_, g_, t_: complex(analytical_sols[1].subs(m, m_).subs(k, k_).subs(g, g_).subs(t, t_)).real\n",
    "r1_f = lambda m_, k_, g_, t_: complex(analytical_sols[2].subs(m, m_).subs(k, k_).subs(g, g_).subs(t, t_)).real\n",
    "r2_f = lambda m_, k_, g_, t_: complex(analytical_sols[3].subs(m, m_).subs(k, k_).subs(g, g_).subs(t, t_)).real"
   ]
  },
  {
   "cell_type": "code",
   "execution_count": 84,
   "metadata": {},
   "outputs": [],
   "source": [
    "ts = [float(t_) for t_ in np.linspace(0, 5, 250)]"
   ]
  },
  {
   "cell_type": "code",
   "execution_count": 85,
   "metadata": {},
   "outputs": [
    {
     "name": "stdout",
     "output_type": "stream",
     "text": [
      "0.0\n",
      "0.020080321285140562\n",
      "0.040160642570281124\n",
      "0.060240963855421686\n",
      "0.08032128514056225\n",
      "0.10040160642570281\n",
      "0.12048192771084337\n",
      "0.14056224899598393\n",
      "0.1606425702811245\n",
      "0.18072289156626506\n",
      "0.20080321285140562\n",
      "0.22088353413654618\n",
      "0.24096385542168675\n",
      "0.26104417670682734\n",
      "0.28112449799196787\n",
      "0.3012048192771084\n",
      "0.321285140562249\n",
      "0.3413654618473896\n",
      "0.3614457831325301\n",
      "0.38152610441767065\n",
      "0.40160642570281124\n",
      "0.42168674698795183\n",
      "0.44176706827309237\n",
      "0.4618473895582329\n",
      "0.4819277108433735\n",
      "0.5020080321285141\n",
      "0.5220883534136547\n",
      "0.5421686746987951\n",
      "0.5622489959839357\n",
      "0.5823293172690763\n",
      "0.6024096385542168\n",
      "0.6224899598393574\n",
      "0.642570281124498\n",
      "0.6626506024096386\n",
      "0.6827309236947792\n",
      "0.7028112449799196\n",
      "0.7228915662650602\n",
      "0.7429718875502008\n",
      "0.7630522088353413\n",
      "0.7831325301204819\n",
      "0.8032128514056225\n",
      "0.8232931726907631\n",
      "0.8433734939759037\n",
      "0.8634538152610441\n",
      "0.8835341365461847\n",
      "0.9036144578313253\n",
      "0.9236947791164658\n",
      "0.9437751004016064\n",
      "0.963855421686747\n",
      "0.9839357429718876\n",
      "1.0040160642570282\n",
      "1.0240963855421688\n",
      "1.0441767068273093\n",
      "1.0642570281124497\n",
      "1.0843373493975903\n",
      "1.104417670682731\n",
      "1.1244979919678715\n",
      "1.144578313253012\n",
      "1.1646586345381527\n",
      "1.1847389558232932\n",
      "1.2048192771084336\n",
      "1.2248995983935742\n",
      "1.2449799196787148\n",
      "1.2650602409638554\n",
      "1.285140562248996\n",
      "1.3052208835341366\n",
      "1.3253012048192772\n",
      "1.3453815261044177\n",
      "1.3654618473895583\n",
      "1.3855421686746987\n",
      "1.4056224899598393\n",
      "1.4257028112449799\n",
      "1.4457831325301205\n",
      "1.465863453815261\n",
      "1.4859437751004017\n",
      "1.5060240963855422\n",
      "1.5261044176706826\n",
      "1.5461847389558232\n",
      "1.5662650602409638\n",
      "1.5863453815261044\n",
      "1.606425702811245\n",
      "1.6265060240963856\n",
      "1.6465863453815262\n",
      "1.6666666666666667\n",
      "1.6867469879518073\n",
      "1.7068273092369477\n",
      "1.7269076305220883\n",
      "1.7469879518072289\n",
      "1.7670682730923695\n",
      "1.78714859437751\n",
      "1.8072289156626506\n",
      "1.8273092369477912\n",
      "1.8473895582329316\n",
      "1.8674698795180722\n",
      "1.8875502008032128\n",
      "1.9076305220883534\n",
      "1.927710843373494\n",
      "1.9477911646586346\n",
      "1.9678714859437751\n",
      "1.9879518072289157\n",
      "2.0080321285140563\n",
      "2.0281124497991967\n",
      "2.0481927710843375\n",
      "2.068273092369478\n",
      "2.0883534136546187\n",
      "2.108433734939759\n",
      "2.1285140562248994\n",
      "2.1485943775100402\n",
      "2.1686746987951806\n",
      "2.1887550200803214\n",
      "2.208835341365462\n",
      "2.2289156626506026\n",
      "2.248995983935743\n",
      "2.2690763052208833\n",
      "2.289156626506024\n",
      "2.3092369477911645\n",
      "2.3293172690763053\n",
      "2.3493975903614457\n",
      "2.3694779116465865\n",
      "2.389558232931727\n",
      "2.4096385542168672\n",
      "2.429718875502008\n",
      "2.4497991967871484\n",
      "2.4698795180722892\n",
      "2.4899598393574296\n",
      "2.5100401606425704\n",
      "2.5301204819277108\n",
      "2.5502008032128516\n",
      "2.570281124497992\n",
      "2.5903614457831323\n",
      "2.610441767068273\n",
      "2.6305220883534135\n",
      "2.6506024096385543\n",
      "2.6706827309236947\n",
      "2.6907630522088355\n",
      "2.710843373493976\n",
      "2.7309236947791167\n",
      "2.751004016064257\n",
      "2.7710843373493974\n",
      "2.791164658634538\n",
      "2.8112449799196786\n",
      "2.8313253012048194\n",
      "2.8514056224899598\n",
      "2.8714859437751006\n",
      "2.891566265060241\n",
      "2.9116465863453813\n",
      "2.931726907630522\n",
      "2.9518072289156625\n",
      "2.9718875502008033\n",
      "2.9919678714859437\n",
      "3.0120481927710845\n",
      "3.032128514056225\n",
      "3.0522088353413652\n",
      "3.072289156626506\n",
      "3.0923694779116464\n",
      "3.112449799196787\n",
      "3.1325301204819276\n",
      "3.1526104417670684\n",
      "3.1726907630522088\n",
      "3.1927710843373496\n",
      "3.21285140562249\n",
      "3.2329317269076303\n",
      "3.253012048192771\n",
      "3.2730923694779115\n",
      "3.2931726907630523\n",
      "3.3132530120481927\n",
      "3.3333333333333335\n",
      "3.353413654618474\n",
      "3.3734939759036147\n",
      "3.393574297188755\n",
      "3.4136546184738954\n",
      "3.433734939759036\n",
      "3.4538152610441766\n",
      "3.4738955823293174\n",
      "3.4939759036144578\n",
      "3.5140562248995986\n",
      "3.534136546184739\n",
      "3.5542168674698793\n",
      "3.57429718875502\n",
      "3.5943775100401605\n",
      "3.6144578313253013\n",
      "3.6345381526104417\n",
      "3.6546184738955825\n",
      "3.674698795180723\n",
      "3.694779116465863\n",
      "3.714859437751004\n",
      "3.7349397590361444\n",
      "3.755020080321285\n",
      "3.7751004016064256\n",
      "3.7951807228915664\n",
      "3.8152610441767068\n",
      "3.8353413654618476\n",
      "3.855421686746988\n",
      "3.8755020080321283\n",
      "3.895582329317269\n",
      "3.9156626506024095\n",
      "3.9357429718875503\n",
      "3.9558232931726907\n",
      "3.9759036144578315\n",
      "3.995983935742972\n",
      "4.016064257028113\n",
      "4.036144578313253\n",
      "4.056224899598393\n",
      "4.076305220883534\n",
      "4.096385542168675\n",
      "4.116465863453815\n",
      "4.136546184738956\n",
      "4.156626506024097\n",
      "4.176706827309237\n",
      "4.196787148594377\n",
      "4.216867469879518\n",
      "4.236947791164659\n",
      "4.257028112449799\n",
      "4.27710843373494\n",
      "4.2971887550200805\n",
      "4.317269076305221\n",
      "4.337349397590361\n",
      "4.357429718875502\n",
      "4.377510040160643\n",
      "4.397590361445783\n",
      "4.417670682730924\n",
      "4.437751004016064\n",
      "4.457831325301205\n",
      "4.477911646586345\n",
      "4.497991967871486\n",
      "4.518072289156627\n",
      "4.538152610441767\n",
      "4.5582329317269075\n",
      "4.578313253012048\n",
      "4.598393574297189\n",
      "4.618473895582329\n",
      "4.63855421686747\n",
      "4.658634538152611\n",
      "4.678714859437751\n",
      "4.698795180722891\n",
      "4.718875502008032\n",
      "4.738955823293173\n",
      "4.759036144578313\n",
      "4.779116465863454\n",
      "4.7991967871485945\n",
      "4.8192771084337345\n",
      "4.839357429718875\n",
      "4.859437751004016\n",
      "4.879518072289157\n",
      "4.899598393574297\n",
      "4.919678714859438\n",
      "4.9397590361445785\n",
      "4.959839357429719\n",
      "4.979919678714859\n",
      "5.0\n"
     ]
    }
   ],
   "source": [
    "the1_fs = []\n",
    "for t_ in ts:\n",
    "  the1_fs.append( the1_f(1, 10, 10, t_) )"
   ]
  },
  {
   "cell_type": "code",
   "execution_count": 86,
   "metadata": {},
   "outputs": [],
   "source": [
    "the2_fs = []\n",
    "for t_ in ts:\n",
    "  the2_fs.append( the2_f(1, 10, 10, t_) )"
   ]
  },
  {
   "cell_type": "code",
   "execution_count": 87,
   "metadata": {},
   "outputs": [],
   "source": [
    "r1_fs = []\n",
    "for t_ in ts:\n",
    "  r1_fs.append( r1_f(1, 10, 10, t_) )"
   ]
  },
  {
   "cell_type": "code",
   "execution_count": 88,
   "metadata": {},
   "outputs": [],
   "source": [
    "r2_fs = []\n",
    "for t_ in ts:\n",
    "  r2_fs.append( r2_f(1, 10, 10, t_) )"
   ]
  },
  {
   "cell_type": "code",
   "execution_count": 90,
   "metadata": {},
   "outputs": [],
   "source": [
    "the1_fs = np.array(the1_fs)\n",
    "the2_fs = np.array(the2_fs)\n",
    "r1_fs = np.array(r1_fs)\n",
    "r2_fs = np.array(r2_fs)"
   ]
  },
  {
   "cell_type": "code",
   "execution_count": 91,
   "metadata": {},
   "outputs": [],
   "source": [
    "def get_x1y1x2y2(the1_, the2_, r1_, r2_):\n",
    "    return ((1+r1_)*np.sin(the1_),\n",
    "            -(1+r1_)*np.cos(the1_),\n",
    "            (1+r1_)*np.sin(the1_) + (1+r2_)*np.sin(the2_),\n",
    "            -(1+r1_)*np.cos(the1_) - (1+r2_)*np.cos(the2_)\n",
    "    )\n",
    "\n",
    "x1, y1, x2, y2 = get_x1y1x2y2(the1_fs, the2_fs, r1_fs, r2_fs)"
   ]
  },
  {
   "cell_type": "code",
   "execution_count": 93,
   "metadata": {},
   "outputs": [
    {
     "data": {
      "image/png": "[encoded data removed]",
      "text/plain": [
       "<Figure size 800x800 with 1 Axes>"
      ]
     },
     "metadata": {},
     "output_type": "display_data"
    }
   ],
   "source": [
    "from matplotlib import animation\n",
    "import matplotlib.pyplot as plt\n",
    "\n",
    "def animate(frame):\n",
    "    ln1.set_data([0, x1[frame], x2[frame]], [0, y1[frame], y2[frame]])\n",
    "    \n",
    "fig, ax = plt.subplots(1,1, figsize=(8,8))\n",
    "ax.grid()\n",
    "ln1, = plt.plot([], [], 'ro--', lw=3, markersize=8)\n",
    "ax.set_ylim(-10, 10)\n",
    "ax.set_xlim(-10, 10)\n",
    "ani = animation.FuncAnimation(fig, animate, frames=250, interval=50)\n",
    "ani.save('heavy_spring_linearized_analytic.gif', writer='pillow', fps=50)"
   ]
  },
  {
   "cell_type": "markdown",
   "metadata": {},
   "source": [
    "# Numerical integration (of linearized system)"
   ]
  },
  {
   "cell_type": "code",
   "execution_count": 94,
   "metadata": {},
   "outputs": [],
   "source": [
    "dw1dt_f = sp.lambdify((m, k ,g, the1, the2, r1, r2, the1_d, the2_d, r1_d, r2_d), sols[the1_dd])\n",
    "dthe1dt_f = sp.lambdify(the1_d, the1_d)\n",
    "\n",
    "dw2dt_f = sp.lambdify((m, k ,g, the1, the2, r1, r2, the1_d, the2_d, r1_d, r2_d), sols[the2_dd])\n",
    "dthe2dt_f = sp.lambdify(the2_d, the2_d)\n",
    "\n",
    "dv1dt_f = sp.lambdify((m, k ,g, the1, the2, r1, r2, the1_d, the2_d, r1_d, r2_d), sols[r1_dd])\n",
    "dr1dt_f = sp.lambdify(r1_d, r1_d)\n",
    "\n",
    "dv2dt_f = sp.lambdify((m, k ,g, the1, the2, r1, r2, the1_d, the2_d, r1_d, r2_d), sols[r2_dd])\n",
    "dr2dt_f = sp.lambdify(r2_d, r2_d)"
   ]
  },
  {
   "cell_type": "code",
   "execution_count": 97,
   "metadata": {},
   "outputs": [],
   "source": [
    "def dSdt(S, t):\n",
    "    the1, w1, the2, w2, r1, v1, r2, v2 = S\n",
    "    return [\n",
    "        dthe1dt_f(w1),\n",
    "        dw1dt_f(m,k,g,the1,the2,r1,r2,w1,w2,v1,v2),\n",
    "        dthe2dt_f(w2),\n",
    "        dw2dt_f(m,k,g,the1,the2,r1,r2,w1,w2,v1,v2),\n",
    "        dr1dt_f(v1),\n",
    "        dv1dt_f(m,k,g,the1,the2,r1,r2,w1,w2,v1,v2),\n",
    "        dr2dt_f(v2),\n",
    "        dv2dt_f(m,k,g,the1,the2,r1,r2,w1,w2,v1,v2),\n",
    "    ]"
   ]
  },
  {
   "cell_type": "code",
   "execution_count": 98,
   "metadata": {},
   "outputs": [],
   "source": [
    "t = np.linspace(0, 20, 1000)\n",
    "g = 10\n",
    "m = 1\n",
    "k = 10"
   ]
  },
  {
   "cell_type": "code",
   "execution_count": 99,
   "metadata": {},
   "outputs": [],
   "source": [
    "from scipy.integrate import odeint\n",
    "\n",
    "ans = odeint(dSdt, y0=[np.pi/12, 0, 3*np.pi/12, 0, 0, 2, 0, 2], t=t)"
   ]
  },
  {
   "cell_type": "code",
   "execution_count": 100,
   "metadata": {},
   "outputs": [],
   "source": [
    "def get_x1y1x2y2(the1, the2, r1, r2):\n",
    "    return ((1+r1)*np.sin(the1),\n",
    "            -(1+r1)*np.cos(the1),\n",
    "            (1+r1)*np.sin(the1) + (1+r2)*np.sin(the2),\n",
    "            -(1+r1)*np.cos(the1) - (1+r2)*np.cos(the2)\n",
    "    )\n",
    "\n",
    "x1, y1, x2, y2 = get_x1y1x2y2(ans.T[0], ans.T[2], ans.T[4], ans.T[6])"
   ]
  },
  {
   "cell_type": "code",
   "execution_count": 101,
   "metadata": {},
   "outputs": [
    {
     "data": {
      "image/png": "[encoded data removed]",
      "text/plain": [
       "<Figure size 800x800 with 1 Axes>"
      ]
     },
     "metadata": {},
     "output_type": "display_data"
    }
   ],
   "source": [
    "from matplotlib import animation\n",
    "import matplotlib.pyplot as plt\n",
    "\n",
    "def animate(frame):\n",
    "    ln1.set_data([0, x1[frame], x2[frame]], [0, y1[frame], y2[frame]])\n",
    "    \n",
    "fig, ax = plt.subplots(1,1, figsize=(8,8))\n",
    "ax.grid()\n",
    "ln1, = plt.plot([], [], 'ro--', lw=3, markersize=8)\n",
    "ax.set_ylim(-10, 10)\n",
    "ax.set_xlim(-10, 10)\n",
    "ani = animation.FuncAnimation(fig, animate, frames=250, interval=50)\n",
    "ani.save('heavy_spring_linearized_numeric.gif', writer='pillow', fps=50)"
   ]
  },
  {
   "cell_type": "code",
   "execution_count": null,
   "metadata": {},
   "outputs": [],
   "source": []
  }
 ],
 "metadata": {
  "kernelspec": {
   "display_name": "Python 3",
   "language": "python",
   "name": "python3"
  },
  "language_info": {
   "codemirror_mode": {
    "name": "ipython",
    "version": 3
   },
   "file_extension": ".py",
   "mimetype": "text/x-python",
   "name": "python",
   "nbconvert_exporter": "python",
   "pygments_lexer": "ipython3",
   "version": "3.12.1"
  }
 },
 "nbformat": 4,
 "nbformat_minor": 4
}
