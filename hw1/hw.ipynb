{
 "cells": [
  {
   "cell_type": "code",
   "execution_count": 1,
   "metadata": {},
   "outputs": [],
   "source": [
    "import numpy as np\n",
    "import sympy as sp"
   ]
  },
  {
   "cell_type": "code",
   "execution_count": 2,
   "metadata": {},
   "outputs": [],
   "source": [
    "t, m, g, k = sp.symbols('t, m, g, k')"
   ]
  },
  {
   "cell_type": "code",
   "execution_count": 3,
   "metadata": {},
   "outputs": [],
   "source": [
    "# get independent variables symbols\n",
    "the1 = sp.Function(r'\\theta_1')(t)\n",
    "the2 = sp.Function(r'\\theta_2')(t)\n",
    "\n",
    "r1 = sp.Function(r'r_1')(t)\n",
    "r2 = sp.Function(r'r_2')(t)\n",
    "\n",
    "# get their derivatives symbols\n",
    "the1_d = sp.diff(the1, t)\n",
    "the1_dd = sp.diff(the1_d, t)\n",
    "\n",
    "the2_d = sp.diff(the2, t)\n",
    "the2_dd = sp.diff(sp.diff(the2, t), t)\n",
    "\n",
    "r1_d = sp.diff(r1, t)\n",
    "r1_dd = sp.diff(sp.diff(r1, t), t)\n",
    "\n",
    "r2_d = sp.diff(r2, t)\n",
    "r2_dd = sp.diff(sp.diff(r2, t), t)\n",
    "\n",
    "# create symbol aliases for functions\n",
    "the1_T = sp.Symbol(r'\\theta_1')\n",
    "the2_T = sp.Symbol(r'\\theta_2')\n",
    "r1_T = sp.Symbol(r'r_1')\n",
    "r2_T = sp.Symbol(r'r_2')\n",
    "\n",
    "the1_d_T = sp.Symbol(r'\\dot{\\theta_1}')\n",
    "the2_d_T = sp.Symbol(r'\\dot{\\theta_2}')\n",
    "r1_d_T = sp.Symbol(r'\\dot{r_1}')\n",
    "r2_d_T = sp.Symbol(r'\\dot{r_2}')\n",
    "\n",
    "the1_dd_T = sp.Symbol(r'\\ddot{\\theta_1}')\n",
    "the2_dd_T = sp.Symbol(r'\\ddot{\\theta_2}')\n",
    "r1_dd_T = sp.Symbol(r'\\ddot{r_1}')\n",
    "r2_dd_T = sp.Symbol(r'\\ddot{r_2}')\n",
    "\n",
    "to_sym = {\n",
    "  the1 : the1_T,\n",
    "  the2 : the2_T,\n",
    "  r1 : r1_T,\n",
    "  r2 : r2_T,\n",
    "\n",
    "  the1_d : the1_d_T,\n",
    "  the2_d : the2_d_T,\n",
    "  r1_d : r1_d_T,\n",
    "  r2_d : r2_d_T,\n",
    "\n",
    "  the1_dd : the1_dd_T,\n",
    "  the2_dd : the2_dd_T,\n",
    "  r1_dd : r1_dd_T,\n",
    "  r2_dd : r2_dd_T,\n",
    "}\n",
    "\n",
    "to_func = dict(zip(to_sym.values(), to_sym.keys())) # reversed dict"
   ]
  },
  {
   "cell_type": "code",
   "execution_count": 4,
   "metadata": {},
   "outputs": [],
   "source": [
    "# get cartesian coords from r and theta\n",
    "x1 = (1+r1)*sp.cos(the1)\n",
    "y1 = -(1+r1)*sp.sin(the1)\n",
    "x2 = (1+r1)*sp.cos(the1) + (1+r2)*sp.cos(the2)\n",
    "y2 = -(1+r1)*sp.sin(the1)-(1+r2)*sp.sin(the2)\n",
    "\n",
    "# small angles taylor series\n",
    "# x1 = (1+r1)*(1 - the1**2 / 2)\n",
    "# y1 = -(1+r1)*(the1)\n",
    "# x2 = (1+r1)*(1 - the1**2 / 2) + (1+r2)*(1 - the2**2 / 2)\n",
    "# y2 = -(1+r1)*the1-(1+r2)*the2"
   ]
  },
  {
   "cell_type": "code",
   "execution_count": 5,
   "metadata": {},
   "outputs": [],
   "source": [
    "T = 1/2 * m * (sp.diff(x1, t)**2 + sp.diff(y1, t)**2 + \\\n",
    "               sp.diff(x2, t)**2 + + sp.diff(y2, t)**2)\n",
    "V = m*g*y1 + m*g*y2 + 1/2 * k * r1**2 + 1/2 * k * r2**2\n",
    "L = T - V"
   ]
  },
  {
   "cell_type": "code",
   "execution_count": 6,
   "metadata": {},
   "outputs": [
    {
     "data": {
      "text/latex": [
       "$\\displaystyle - g m \\left(\\left(- \\operatorname{r_{1}}{\\left(t \\right)} - 1\\right) \\sin{\\left(\\theta_{1}{\\left(t \\right)} \\right)} - \\left(\\operatorname{r_{2}}{\\left(t \\right)} + 1\\right) \\sin{\\left(\\theta_{2}{\\left(t \\right)} \\right)}\\right) - g m \\left(- \\operatorname{r_{1}}{\\left(t \\right)} - 1\\right) \\sin{\\left(\\theta_{1}{\\left(t \\right)} \\right)} - 0.5 k \\operatorname{r_{1}}^{2}{\\left(t \\right)} - 0.5 k \\operatorname{r_{2}}^{2}{\\left(t \\right)} + 0.5 m \\left(\\left(\\left(- \\operatorname{r_{1}}{\\left(t \\right)} - 1\\right) \\cos{\\left(\\theta_{1}{\\left(t \\right)} \\right)} \\frac{d}{d t} \\theta_{1}{\\left(t \\right)} - \\sin{\\left(\\theta_{1}{\\left(t \\right)} \\right)} \\frac{d}{d t} \\operatorname{r_{1}}{\\left(t \\right)}\\right)^{2} + \\left(- \\left(\\operatorname{r_{1}}{\\left(t \\right)} + 1\\right) \\sin{\\left(\\theta_{1}{\\left(t \\right)} \\right)} \\frac{d}{d t} \\theta_{1}{\\left(t \\right)} + \\cos{\\left(\\theta_{1}{\\left(t \\right)} \\right)} \\frac{d}{d t} \\operatorname{r_{1}}{\\left(t \\right)}\\right)^{2} + \\left(\\left(- \\operatorname{r_{1}}{\\left(t \\right)} - 1\\right) \\cos{\\left(\\theta_{1}{\\left(t \\right)} \\right)} \\frac{d}{d t} \\theta_{1}{\\left(t \\right)} + \\left(- \\operatorname{r_{2}}{\\left(t \\right)} - 1\\right) \\cos{\\left(\\theta_{2}{\\left(t \\right)} \\right)} \\frac{d}{d t} \\theta_{2}{\\left(t \\right)} - \\sin{\\left(\\theta_{1}{\\left(t \\right)} \\right)} \\frac{d}{d t} \\operatorname{r_{1}}{\\left(t \\right)} - \\sin{\\left(\\theta_{2}{\\left(t \\right)} \\right)} \\frac{d}{d t} \\operatorname{r_{2}}{\\left(t \\right)}\\right)^{2} + \\left(- \\left(\\operatorname{r_{1}}{\\left(t \\right)} + 1\\right) \\sin{\\left(\\theta_{1}{\\left(t \\right)} \\right)} \\frac{d}{d t} \\theta_{1}{\\left(t \\right)} - \\left(\\operatorname{r_{2}}{\\left(t \\right)} + 1\\right) \\sin{\\left(\\theta_{2}{\\left(t \\right)} \\right)} \\frac{d}{d t} \\theta_{2}{\\left(t \\right)} + \\cos{\\left(\\theta_{1}{\\left(t \\right)} \\right)} \\frac{d}{d t} \\operatorname{r_{1}}{\\left(t \\right)} + \\cos{\\left(\\theta_{2}{\\left(t \\right)} \\right)} \\frac{d}{d t} \\operatorname{r_{2}}{\\left(t \\right)}\\right)^{2}\\right)$"
      ],
      "text/plain": [
       "-g*m*((-r_1(t) - 1)*sin(\\theta_1(t)) - (r_2(t) + 1)*sin(\\theta_2(t))) - g*m*(-r_1(t) - 1)*sin(\\theta_1(t)) - 0.5*k*r_1(t)**2 - 0.5*k*r_2(t)**2 + 0.5*m*(((-r_1(t) - 1)*cos(\\theta_1(t))*Derivative(\\theta_1(t), t) - sin(\\theta_1(t))*Derivative(r_1(t), t))**2 + (-(r_1(t) + 1)*sin(\\theta_1(t))*Derivative(\\theta_1(t), t) + cos(\\theta_1(t))*Derivative(r_1(t), t))**2 + ((-r_1(t) - 1)*cos(\\theta_1(t))*Derivative(\\theta_1(t), t) + (-r_2(t) - 1)*cos(\\theta_2(t))*Derivative(\\theta_2(t), t) - sin(\\theta_1(t))*Derivative(r_1(t), t) - sin(\\theta_2(t))*Derivative(r_2(t), t))**2 + (-(r_1(t) + 1)*sin(\\theta_1(t))*Derivative(\\theta_1(t), t) - (r_2(t) + 1)*sin(\\theta_2(t))*Derivative(\\theta_2(t), t) + cos(\\theta_1(t))*Derivative(r_1(t), t) + cos(\\theta_2(t))*Derivative(r_2(t), t))**2)"
      ]
     },
     "execution_count": 6,
     "metadata": {},
     "output_type": "execute_result"
    }
   ],
   "source": [
    "L"
   ]
  },
  {
   "cell_type": "code",
   "execution_count": 7,
   "metadata": {},
   "outputs": [],
   "source": [
    "LE1 = sp.diff(L, the1) - sp.diff(sp.diff(L, the1_d), t)\n",
    "LE1 = LE1.simplify()"
   ]
  },
  {
   "cell_type": "code",
   "execution_count": 8,
   "metadata": {},
   "outputs": [],
   "source": [
    "LE2 = sp.diff(L, the2) - sp.diff(sp.diff(L, the2_d), t)\n",
    "LE2 = LE2.simplify()"
   ]
  },
  {
   "cell_type": "code",
   "execution_count": 9,
   "metadata": {},
   "outputs": [],
   "source": [
    "LE3 = sp.diff(L, r1) - sp.diff(sp.diff(L, r1_d), t)\n",
    "LE3 = LE3.simplify()"
   ]
  },
  {
   "cell_type": "code",
   "execution_count": 10,
   "metadata": {},
   "outputs": [],
   "source": [
    "LE4 = sp.diff(L, r2) - sp.diff(sp.diff(L, r2_d), t)\n",
    "LE4 = LE4.simplify()"
   ]
  },
  {
   "cell_type": "code",
   "execution_count": 11,
   "metadata": {},
   "outputs": [
    {
     "data": {
      "text/latex": [
       "$\\displaystyle m \\left(2.0 g \\operatorname{r_{1}}{\\left(t \\right)} \\cos{\\left(\\theta_{1}{\\left(t \\right)} \\right)} + 2.0 g \\cos{\\left(\\theta_{1}{\\left(t \\right)} \\right)} - 2.0 \\operatorname{r_{1}}^{2}{\\left(t \\right)} \\frac{d^{2}}{d t^{2}} \\theta_{1}{\\left(t \\right)} - 1.0 \\operatorname{r_{1}}{\\left(t \\right)} \\operatorname{r_{2}}{\\left(t \\right)} \\sin{\\left(\\theta_{1}{\\left(t \\right)} - \\theta_{2}{\\left(t \\right)} \\right)} \\left(\\frac{d}{d t} \\theta_{2}{\\left(t \\right)}\\right)^{2} - 1.0 \\operatorname{r_{1}}{\\left(t \\right)} \\operatorname{r_{2}}{\\left(t \\right)} \\cos{\\left(\\theta_{1}{\\left(t \\right)} - \\theta_{2}{\\left(t \\right)} \\right)} \\frac{d^{2}}{d t^{2}} \\theta_{2}{\\left(t \\right)} - 1.0 \\operatorname{r_{1}}{\\left(t \\right)} \\sin{\\left(\\theta_{1}{\\left(t \\right)} - \\theta_{2}{\\left(t \\right)} \\right)} \\left(\\frac{d}{d t} \\theta_{2}{\\left(t \\right)}\\right)^{2} + 1.0 \\operatorname{r_{1}}{\\left(t \\right)} \\sin{\\left(\\theta_{1}{\\left(t \\right)} - \\theta_{2}{\\left(t \\right)} \\right)} \\frac{d^{2}}{d t^{2}} \\operatorname{r_{2}}{\\left(t \\right)} - 2.0 \\operatorname{r_{1}}{\\left(t \\right)} \\cos{\\left(\\theta_{1}{\\left(t \\right)} - \\theta_{2}{\\left(t \\right)} \\right)} \\frac{d}{d t} \\theta_{2}{\\left(t \\right)} \\frac{d}{d t} \\operatorname{r_{2}}{\\left(t \\right)} - 1.0 \\operatorname{r_{1}}{\\left(t \\right)} \\cos{\\left(\\theta_{1}{\\left(t \\right)} - \\theta_{2}{\\left(t \\right)} \\right)} \\frac{d^{2}}{d t^{2}} \\theta_{2}{\\left(t \\right)} - 4.0 \\operatorname{r_{1}}{\\left(t \\right)} \\frac{d}{d t} \\theta_{1}{\\left(t \\right)} \\frac{d}{d t} \\operatorname{r_{1}}{\\left(t \\right)} - 4.0 \\operatorname{r_{1}}{\\left(t \\right)} \\frac{d^{2}}{d t^{2}} \\theta_{1}{\\left(t \\right)} - 1.0 \\operatorname{r_{2}}{\\left(t \\right)} \\sin{\\left(\\theta_{1}{\\left(t \\right)} - \\theta_{2}{\\left(t \\right)} \\right)} \\left(\\frac{d}{d t} \\theta_{2}{\\left(t \\right)}\\right)^{2} - 1.0 \\operatorname{r_{2}}{\\left(t \\right)} \\cos{\\left(\\theta_{1}{\\left(t \\right)} - \\theta_{2}{\\left(t \\right)} \\right)} \\frac{d^{2}}{d t^{2}} \\theta_{2}{\\left(t \\right)} - 1.0 \\sin{\\left(\\theta_{1}{\\left(t \\right)} - \\theta_{2}{\\left(t \\right)} \\right)} \\left(\\frac{d}{d t} \\theta_{2}{\\left(t \\right)}\\right)^{2} + 1.0 \\sin{\\left(\\theta_{1}{\\left(t \\right)} - \\theta_{2}{\\left(t \\right)} \\right)} \\frac{d^{2}}{d t^{2}} \\operatorname{r_{2}}{\\left(t \\right)} - 2.0 \\cos{\\left(\\theta_{1}{\\left(t \\right)} - \\theta_{2}{\\left(t \\right)} \\right)} \\frac{d}{d t} \\theta_{2}{\\left(t \\right)} \\frac{d}{d t} \\operatorname{r_{2}}{\\left(t \\right)} - 1.0 \\cos{\\left(\\theta_{1}{\\left(t \\right)} - \\theta_{2}{\\left(t \\right)} \\right)} \\frac{d^{2}}{d t^{2}} \\theta_{2}{\\left(t \\right)} - 4.0 \\frac{d}{d t} \\theta_{1}{\\left(t \\right)} \\frac{d}{d t} \\operatorname{r_{1}}{\\left(t \\right)} - 2.0 \\frac{d^{2}}{d t^{2}} \\theta_{1}{\\left(t \\right)}\\right)$"
      ],
      "text/plain": [
       "m*(2.0*g*r_1(t)*cos(\\theta_1(t)) + 2.0*g*cos(\\theta_1(t)) - 2.0*r_1(t)**2*Derivative(\\theta_1(t), (t, 2)) - 1.0*r_1(t)*r_2(t)*sin(\\theta_1(t) - \\theta_2(t))*Derivative(\\theta_2(t), t)**2 - 1.0*r_1(t)*r_2(t)*cos(\\theta_1(t) - \\theta_2(t))*Derivative(\\theta_2(t), (t, 2)) - 1.0*r_1(t)*sin(\\theta_1(t) - \\theta_2(t))*Derivative(\\theta_2(t), t)**2 + 1.0*r_1(t)*sin(\\theta_1(t) - \\theta_2(t))*Derivative(r_2(t), (t, 2)) - 2.0*r_1(t)*cos(\\theta_1(t) - \\theta_2(t))*Derivative(\\theta_2(t), t)*Derivative(r_2(t), t) - 1.0*r_1(t)*cos(\\theta_1(t) - \\theta_2(t))*Derivative(\\theta_2(t), (t, 2)) - 4.0*r_1(t)*Derivative(\\theta_1(t), t)*Derivative(r_1(t), t) - 4.0*r_1(t)*Derivative(\\theta_1(t), (t, 2)) - 1.0*r_2(t)*sin(\\theta_1(t) - \\theta_2(t))*Derivative(\\theta_2(t), t)**2 - 1.0*r_2(t)*cos(\\theta_1(t) - \\theta_2(t))*Derivative(\\theta_2(t), (t, 2)) - 1.0*sin(\\theta_1(t) - \\theta_2(t))*Derivative(\\theta_2(t), t)**2 + 1.0*sin(\\theta_1(t) - \\theta_2(t))*Derivative(r_2(t), (t, 2)) - 2.0*cos(\\theta_1(t) - \\theta_2(t))*Derivative(\\theta_2(t), t)*Derivative(r_2(t), t) - 1.0*cos(\\theta_1(t) - \\theta_2(t))*Derivative(\\theta_2(t), (t, 2)) - 4.0*Derivative(\\theta_1(t), t)*Derivative(r_1(t), t) - 2.0*Derivative(\\theta_1(t), (t, 2)))"
      ]
     },
     "execution_count": 11,
     "metadata": {},
     "output_type": "execute_result"
    }
   ],
   "source": [
    "LE1"
   ]
  },
  {
   "cell_type": "code",
   "execution_count": 12,
   "metadata": {},
   "outputs": [
    {
     "data": {
      "text/latex": [
       "$\\displaystyle 1.0 g m \\sin{\\left(\\theta_{2}{\\left(t \\right)} \\right)} - 1.0 k \\operatorname{r_{2}}{\\left(t \\right)} + 1.0 m \\operatorname{r_{1}}{\\left(t \\right)} \\sin{\\left(\\theta_{1}{\\left(t \\right)} - \\theta_{2}{\\left(t \\right)} \\right)} \\frac{d^{2}}{d t^{2}} \\theta_{1}{\\left(t \\right)} + 1.0 m \\operatorname{r_{1}}{\\left(t \\right)} \\cos{\\left(\\theta_{1}{\\left(t \\right)} - \\theta_{2}{\\left(t \\right)} \\right)} \\left(\\frac{d}{d t} \\theta_{1}{\\left(t \\right)}\\right)^{2} + 1.0 m \\operatorname{r_{2}}{\\left(t \\right)} \\left(\\frac{d}{d t} \\theta_{2}{\\left(t \\right)}\\right)^{2} + 2.0 m \\sin{\\left(\\theta_{1}{\\left(t \\right)} - \\theta_{2}{\\left(t \\right)} \\right)} \\frac{d}{d t} \\theta_{1}{\\left(t \\right)} \\frac{d}{d t} \\operatorname{r_{1}}{\\left(t \\right)} + 1.0 m \\sin{\\left(\\theta_{1}{\\left(t \\right)} - \\theta_{2}{\\left(t \\right)} \\right)} \\frac{d^{2}}{d t^{2}} \\theta_{1}{\\left(t \\right)} + 1.0 m \\cos{\\left(\\theta_{1}{\\left(t \\right)} - \\theta_{2}{\\left(t \\right)} \\right)} \\left(\\frac{d}{d t} \\theta_{1}{\\left(t \\right)}\\right)^{2} - 1.0 m \\cos{\\left(\\theta_{1}{\\left(t \\right)} - \\theta_{2}{\\left(t \\right)} \\right)} \\frac{d^{2}}{d t^{2}} \\operatorname{r_{1}}{\\left(t \\right)} + 1.0 m \\left(\\frac{d}{d t} \\theta_{2}{\\left(t \\right)}\\right)^{2} - 1.0 m \\frac{d^{2}}{d t^{2}} \\operatorname{r_{2}}{\\left(t \\right)}$"
      ],
      "text/plain": [
       "1.0*g*m*sin(\\theta_2(t)) - 1.0*k*r_2(t) + 1.0*m*r_1(t)*sin(\\theta_1(t) - \\theta_2(t))*Derivative(\\theta_1(t), (t, 2)) + 1.0*m*r_1(t)*cos(\\theta_1(t) - \\theta_2(t))*Derivative(\\theta_1(t), t)**2 + 1.0*m*r_2(t)*Derivative(\\theta_2(t), t)**2 + 2.0*m*sin(\\theta_1(t) - \\theta_2(t))*Derivative(\\theta_1(t), t)*Derivative(r_1(t), t) + 1.0*m*sin(\\theta_1(t) - \\theta_2(t))*Derivative(\\theta_1(t), (t, 2)) + 1.0*m*cos(\\theta_1(t) - \\theta_2(t))*Derivative(\\theta_1(t), t)**2 - 1.0*m*cos(\\theta_1(t) - \\theta_2(t))*Derivative(r_1(t), (t, 2)) + 1.0*m*Derivative(\\theta_2(t), t)**2 - 1.0*m*Derivative(r_2(t), (t, 2))"
      ]
     },
     "execution_count": 12,
     "metadata": {},
     "output_type": "execute_result"
    }
   ],
   "source": [
    "LE4"
   ]
  },
  {
   "cell_type": "code",
   "execution_count": 13,
   "metadata": {},
   "outputs": [],
   "source": [
    "eqs = [LE1, LE2, LE3, LE4]"
   ]
  },
  {
   "cell_type": "markdown",
   "metadata": {},
   "source": [
    "# Series expansion of Euler-Lagrange equations"
   ]
  },
  {
   "cell_type": "code",
   "execution_count": 28,
   "metadata": {},
   "outputs": [],
   "source": [
    "reduced_eqs = []\n",
    "the_order = 2\n",
    "r_order = 2\n",
    "\n",
    "for eq in eqs:\n",
    "  symeq = eq.subs(to_sym)\n",
    "  \n",
    "  # theta reduction\n",
    "  symeq = symeq.series(the1_T, n=the_order).removeO()\n",
    "  symeq = symeq.series(the2_T, n=the_order).removeO()\n",
    "\n",
    "  symeq = symeq.series(the1_d_T, n=the_order).removeO()\n",
    "  symeq = symeq.series(the2_d_T, n=the_order).removeO()\n",
    "\n",
    "  symeq = symeq.series(the1_dd_T, n=the_order).removeO()\n",
    "  symeq = symeq.series(the2_dd_T, n=the_order).removeO()\n",
    "\n",
    "  # r reduction\n",
    "  symeq = symeq.series(r1_T, n=r_order).removeO()\n",
    "  symeq = symeq.series(r2_T, n=r_order).removeO()\n",
    "\n",
    "  symeq = symeq.series(r1_d_T, n=r_order).removeO()\n",
    "  symeq = symeq.series(r2_d_T, n=r_order).removeO()\n",
    "\n",
    "  symeq = symeq.series(r1_dd_T, n=r_order).removeO()\n",
    "  symeq = symeq.series(r2_dd_T, n=r_order).removeO()\n",
    "\n",
    "  reduced_eqs.append(symeq.subs(to_func))"
   ]
  },
  {
   "cell_type": "code",
   "execution_count": 29,
   "metadata": {},
   "outputs": [
    {
     "data": {
      "text/latex": [
       "$\\displaystyle m \\left(2.0 g \\operatorname{r_{1}}{\\left(t \\right)} \\cos{\\left(\\theta_{1}{\\left(t \\right)} \\right)} + 2.0 g \\cos{\\left(\\theta_{1}{\\left(t \\right)} \\right)} - 2.0 \\operatorname{r_{1}}^{2}{\\left(t \\right)} \\frac{d^{2}}{d t^{2}} \\theta_{1}{\\left(t \\right)} - 1.0 \\operatorname{r_{1}}{\\left(t \\right)} \\operatorname{r_{2}}{\\left(t \\right)} \\sin{\\left(\\theta_{1}{\\left(t \\right)} - \\theta_{2}{\\left(t \\right)} \\right)} \\left(\\frac{d}{d t} \\theta_{2}{\\left(t \\right)}\\right)^{2} - 1.0 \\operatorname{r_{1}}{\\left(t \\right)} \\operatorname{r_{2}}{\\left(t \\right)} \\cos{\\left(\\theta_{1}{\\left(t \\right)} - \\theta_{2}{\\left(t \\right)} \\right)} \\frac{d^{2}}{d t^{2}} \\theta_{2}{\\left(t \\right)} - 1.0 \\operatorname{r_{1}}{\\left(t \\right)} \\sin{\\left(\\theta_{1}{\\left(t \\right)} - \\theta_{2}{\\left(t \\right)} \\right)} \\left(\\frac{d}{d t} \\theta_{2}{\\left(t \\right)}\\right)^{2} + 1.0 \\operatorname{r_{1}}{\\left(t \\right)} \\sin{\\left(\\theta_{1}{\\left(t \\right)} - \\theta_{2}{\\left(t \\right)} \\right)} \\frac{d^{2}}{d t^{2}} \\operatorname{r_{2}}{\\left(t \\right)} - 2.0 \\operatorname{r_{1}}{\\left(t \\right)} \\cos{\\left(\\theta_{1}{\\left(t \\right)} - \\theta_{2}{\\left(t \\right)} \\right)} \\frac{d}{d t} \\theta_{2}{\\left(t \\right)} \\frac{d}{d t} \\operatorname{r_{2}}{\\left(t \\right)} - 1.0 \\operatorname{r_{1}}{\\left(t \\right)} \\cos{\\left(\\theta_{1}{\\left(t \\right)} - \\theta_{2}{\\left(t \\right)} \\right)} \\frac{d^{2}}{d t^{2}} \\theta_{2}{\\left(t \\right)} - 4.0 \\operatorname{r_{1}}{\\left(t \\right)} \\frac{d}{d t} \\theta_{1}{\\left(t \\right)} \\frac{d}{d t} \\operatorname{r_{1}}{\\left(t \\right)} - 4.0 \\operatorname{r_{1}}{\\left(t \\right)} \\frac{d^{2}}{d t^{2}} \\theta_{1}{\\left(t \\right)} - 1.0 \\operatorname{r_{2}}{\\left(t \\right)} \\sin{\\left(\\theta_{1}{\\left(t \\right)} - \\theta_{2}{\\left(t \\right)} \\right)} \\left(\\frac{d}{d t} \\theta_{2}{\\left(t \\right)}\\right)^{2} - 1.0 \\operatorname{r_{2}}{\\left(t \\right)} \\cos{\\left(\\theta_{1}{\\left(t \\right)} - \\theta_{2}{\\left(t \\right)} \\right)} \\frac{d^{2}}{d t^{2}} \\theta_{2}{\\left(t \\right)} - 1.0 \\sin{\\left(\\theta_{1}{\\left(t \\right)} - \\theta_{2}{\\left(t \\right)} \\right)} \\left(\\frac{d}{d t} \\theta_{2}{\\left(t \\right)}\\right)^{2} + 1.0 \\sin{\\left(\\theta_{1}{\\left(t \\right)} - \\theta_{2}{\\left(t \\right)} \\right)} \\frac{d^{2}}{d t^{2}} \\operatorname{r_{2}}{\\left(t \\right)} - 2.0 \\cos{\\left(\\theta_{1}{\\left(t \\right)} - \\theta_{2}{\\left(t \\right)} \\right)} \\frac{d}{d t} \\theta_{2}{\\left(t \\right)} \\frac{d}{d t} \\operatorname{r_{2}}{\\left(t \\right)} - 1.0 \\cos{\\left(\\theta_{1}{\\left(t \\right)} - \\theta_{2}{\\left(t \\right)} \\right)} \\frac{d^{2}}{d t^{2}} \\theta_{2}{\\left(t \\right)} - 4.0 \\frac{d}{d t} \\theta_{1}{\\left(t \\right)} \\frac{d}{d t} \\operatorname{r_{1}}{\\left(t \\right)} - 2.0 \\frac{d^{2}}{d t^{2}} \\theta_{1}{\\left(t \\right)}\\right)$"
      ],
      "text/plain": [
       "m*(2.0*g*r_1(t)*cos(\\theta_1(t)) + 2.0*g*cos(\\theta_1(t)) - 2.0*r_1(t)**2*Derivative(\\theta_1(t), (t, 2)) - 1.0*r_1(t)*r_2(t)*sin(\\theta_1(t) - \\theta_2(t))*Derivative(\\theta_2(t), t)**2 - 1.0*r_1(t)*r_2(t)*cos(\\theta_1(t) - \\theta_2(t))*Derivative(\\theta_2(t), (t, 2)) - 1.0*r_1(t)*sin(\\theta_1(t) - \\theta_2(t))*Derivative(\\theta_2(t), t)**2 + 1.0*r_1(t)*sin(\\theta_1(t) - \\theta_2(t))*Derivative(r_2(t), (t, 2)) - 2.0*r_1(t)*cos(\\theta_1(t) - \\theta_2(t))*Derivative(\\theta_2(t), t)*Derivative(r_2(t), t) - 1.0*r_1(t)*cos(\\theta_1(t) - \\theta_2(t))*Derivative(\\theta_2(t), (t, 2)) - 4.0*r_1(t)*Derivative(\\theta_1(t), t)*Derivative(r_1(t), t) - 4.0*r_1(t)*Derivative(\\theta_1(t), (t, 2)) - 1.0*r_2(t)*sin(\\theta_1(t) - \\theta_2(t))*Derivative(\\theta_2(t), t)**2 - 1.0*r_2(t)*cos(\\theta_1(t) - \\theta_2(t))*Derivative(\\theta_2(t), (t, 2)) - 1.0*sin(\\theta_1(t) - \\theta_2(t))*Derivative(\\theta_2(t), t)**2 + 1.0*sin(\\theta_1(t) - \\theta_2(t))*Derivative(r_2(t), (t, 2)) - 2.0*cos(\\theta_1(t) - \\theta_2(t))*Derivative(\\theta_2(t), t)*Derivative(r_2(t), t) - 1.0*cos(\\theta_1(t) - \\theta_2(t))*Derivative(\\theta_2(t), (t, 2)) - 4.0*Derivative(\\theta_1(t), t)*Derivative(r_1(t), t) - 2.0*Derivative(\\theta_1(t), (t, 2)))"
      ]
     },
     "execution_count": 29,
     "metadata": {},
     "output_type": "execute_result"
    }
   ],
   "source": [
    "eqs[0]"
   ]
  },
  {
   "cell_type": "code",
   "execution_count": 30,
   "metadata": {},
   "outputs": [
    {
     "data": {
      "text/latex": [
       "$\\displaystyle 2.0 g m \\operatorname{r_{1}}{\\left(t \\right)} + 2.0 g m - 1.0 m \\theta_{1}{\\left(t \\right)} \\theta_{2}{\\left(t \\right)} \\operatorname{r_{1}}{\\left(t \\right)} \\frac{d^{2}}{d t^{2}} \\theta_{2}{\\left(t \\right)} - 1.0 m \\theta_{1}{\\left(t \\right)} \\theta_{2}{\\left(t \\right)} \\frac{d^{2}}{d t^{2}} \\theta_{2}{\\left(t \\right)} - 4.0 m \\operatorname{r_{1}}{\\left(t \\right)} \\frac{d^{2}}{d t^{2}} \\theta_{1}{\\left(t \\right)} - 1.0 m \\operatorname{r_{1}}{\\left(t \\right)} \\frac{d^{2}}{d t^{2}} \\theta_{2}{\\left(t \\right)} - 2.0 m \\frac{d^{2}}{d t^{2}} \\theta_{1}{\\left(t \\right)} - 1.0 m \\frac{d^{2}}{d t^{2}} \\theta_{2}{\\left(t \\right)} + \\left(- 4.0 m \\operatorname{r_{1}}{\\left(t \\right)} \\frac{d}{d t} \\theta_{1}{\\left(t \\right)} - 4.0 m \\frac{d}{d t} \\theta_{1}{\\left(t \\right)}\\right) \\frac{d}{d t} \\operatorname{r_{1}}{\\left(t \\right)} + \\left(1.0 m \\theta_{1}{\\left(t \\right)} \\operatorname{r_{1}}{\\left(t \\right)} + 1.0 m \\theta_{1}{\\left(t \\right)} - 1.0 m \\theta_{2}{\\left(t \\right)} \\operatorname{r_{1}}{\\left(t \\right)} - 1.0 m \\theta_{2}{\\left(t \\right)}\\right) \\frac{d^{2}}{d t^{2}} \\operatorname{r_{2}}{\\left(t \\right)} + \\left(- 2.0 m \\theta_{1}{\\left(t \\right)} \\theta_{2}{\\left(t \\right)} \\operatorname{r_{1}}{\\left(t \\right)} \\frac{d}{d t} \\theta_{2}{\\left(t \\right)} - 2.0 m \\theta_{1}{\\left(t \\right)} \\theta_{2}{\\left(t \\right)} \\frac{d}{d t} \\theta_{2}{\\left(t \\right)} - 2.0 m \\operatorname{r_{1}}{\\left(t \\right)} \\frac{d}{d t} \\theta_{2}{\\left(t \\right)} - 2.0 m \\frac{d}{d t} \\theta_{2}{\\left(t \\right)}\\right) \\frac{d}{d t} \\operatorname{r_{2}}{\\left(t \\right)} + \\left(- 1.0 m \\theta_{1}{\\left(t \\right)} \\theta_{2}{\\left(t \\right)} \\operatorname{r_{1}}{\\left(t \\right)} \\frac{d^{2}}{d t^{2}} \\theta_{2}{\\left(t \\right)} - 1.0 m \\theta_{1}{\\left(t \\right)} \\theta_{2}{\\left(t \\right)} \\frac{d^{2}}{d t^{2}} \\theta_{2}{\\left(t \\right)} - 1.0 m \\operatorname{r_{1}}{\\left(t \\right)} \\frac{d^{2}}{d t^{2}} \\theta_{2}{\\left(t \\right)} - 1.0 m \\frac{d^{2}}{d t^{2}} \\theta_{2}{\\left(t \\right)}\\right) \\operatorname{r_{2}}{\\left(t \\right)}$"
      ],
      "text/plain": [
       "2.0*g*m*r_1(t) + 2.0*g*m - 1.0*m*\\theta_1(t)*\\theta_2(t)*r_1(t)*Derivative(\\theta_2(t), (t, 2)) - 1.0*m*\\theta_1(t)*\\theta_2(t)*Derivative(\\theta_2(t), (t, 2)) - 4.0*m*r_1(t)*Derivative(\\theta_1(t), (t, 2)) - 1.0*m*r_1(t)*Derivative(\\theta_2(t), (t, 2)) - 2.0*m*Derivative(\\theta_1(t), (t, 2)) - 1.0*m*Derivative(\\theta_2(t), (t, 2)) + (-4.0*m*r_1(t)*Derivative(\\theta_1(t), t) - 4.0*m*Derivative(\\theta_1(t), t))*Derivative(r_1(t), t) + (1.0*m*\\theta_1(t)*r_1(t) + 1.0*m*\\theta_1(t) - 1.0*m*\\theta_2(t)*r_1(t) - 1.0*m*\\theta_2(t))*Derivative(r_2(t), (t, 2)) + (-2.0*m*\\theta_1(t)*\\theta_2(t)*r_1(t)*Derivative(\\theta_2(t), t) - 2.0*m*\\theta_1(t)*\\theta_2(t)*Derivative(\\theta_2(t), t) - 2.0*m*r_1(t)*Derivative(\\theta_2(t), t) - 2.0*m*Derivative(\\theta_2(t), t))*Derivative(r_2(t), t) + (-1.0*m*\\theta_1(t)*\\theta_2(t)*r_1(t)*Derivative(\\theta_2(t), (t, 2)) - 1.0*m*\\theta_1(t)*\\theta_2(t)*Derivative(\\theta_2(t), (t, 2)) - 1.0*m*r_1(t)*Derivative(\\theta_2(t), (t, 2)) - 1.0*m*Derivative(\\theta_2(t), (t, 2)))*r_2(t)"
      ]
     },
     "execution_count": 30,
     "metadata": {},
     "output_type": "execute_result"
    }
   ],
   "source": [
    "reduced_eqs[0]"
   ]
  },
  {
   "cell_type": "code",
   "execution_count": 31,
   "metadata": {},
   "outputs": [
    {
     "data": {
      "text/latex": [
       "$\\displaystyle 1.0 g m \\operatorname{r_{2}}{\\left(t \\right)} + 1.0 g m - 1.0 m \\theta_{1}{\\left(t \\right)} \\theta_{2}{\\left(t \\right)} \\operatorname{r_{1}}{\\left(t \\right)} \\operatorname{r_{2}}{\\left(t \\right)} \\frac{d^{2}}{d t^{2}} \\theta_{1}{\\left(t \\right)} - 1.0 m \\theta_{1}{\\left(t \\right)} \\theta_{2}{\\left(t \\right)} \\operatorname{r_{1}}{\\left(t \\right)} \\frac{d^{2}}{d t^{2}} \\theta_{1}{\\left(t \\right)} - 1.0 m \\theta_{1}{\\left(t \\right)} \\theta_{2}{\\left(t \\right)} \\operatorname{r_{2}}{\\left(t \\right)} \\frac{d^{2}}{d t^{2}} \\theta_{1}{\\left(t \\right)} - 1.0 m \\theta_{1}{\\left(t \\right)} \\theta_{2}{\\left(t \\right)} \\frac{d^{2}}{d t^{2}} \\theta_{1}{\\left(t \\right)} - 1.0 m \\operatorname{r_{1}}{\\left(t \\right)} \\operatorname{r_{2}}{\\left(t \\right)} \\frac{d^{2}}{d t^{2}} \\theta_{1}{\\left(t \\right)} - 1.0 m \\operatorname{r_{1}}{\\left(t \\right)} \\frac{d^{2}}{d t^{2}} \\theta_{1}{\\left(t \\right)} - 1.0 m \\operatorname{r_{2}}{\\left(t \\right)} \\frac{d^{2}}{d t^{2}} \\theta_{1}{\\left(t \\right)} - 2.0 m \\operatorname{r_{2}}{\\left(t \\right)} \\frac{d^{2}}{d t^{2}} \\theta_{2}{\\left(t \\right)} - 1.0 m \\frac{d^{2}}{d t^{2}} \\theta_{1}{\\left(t \\right)} - 1.0 m \\frac{d^{2}}{d t^{2}} \\theta_{2}{\\left(t \\right)} + \\left(- 2.0 m \\operatorname{r_{2}}{\\left(t \\right)} \\frac{d}{d t} \\theta_{2}{\\left(t \\right)} - 2.0 m \\frac{d}{d t} \\theta_{2}{\\left(t \\right)}\\right) \\frac{d}{d t} \\operatorname{r_{2}}{\\left(t \\right)} + \\left(- 1.0 m \\theta_{1}{\\left(t \\right)} \\operatorname{r_{2}}{\\left(t \\right)} - 1.0 m \\theta_{1}{\\left(t \\right)} + 1.0 m \\theta_{2}{\\left(t \\right)} \\operatorname{r_{2}}{\\left(t \\right)} + 1.0 m \\theta_{2}{\\left(t \\right)}\\right) \\frac{d^{2}}{d t^{2}} \\operatorname{r_{1}}{\\left(t \\right)} + \\left(- 2.0 m \\theta_{1}{\\left(t \\right)} \\theta_{2}{\\left(t \\right)} \\operatorname{r_{2}}{\\left(t \\right)} \\frac{d}{d t} \\theta_{1}{\\left(t \\right)} - 2.0 m \\theta_{1}{\\left(t \\right)} \\theta_{2}{\\left(t \\right)} \\frac{d}{d t} \\theta_{1}{\\left(t \\right)} - 2.0 m \\operatorname{r_{2}}{\\left(t \\right)} \\frac{d}{d t} \\theta_{1}{\\left(t \\right)} - 2.0 m \\frac{d}{d t} \\theta_{1}{\\left(t \\right)}\\right) \\frac{d}{d t} \\operatorname{r_{1}}{\\left(t \\right)}$"
      ],
      "text/plain": [
       "1.0*g*m*r_2(t) + 1.0*g*m - 1.0*m*\\theta_1(t)*\\theta_2(t)*r_1(t)*r_2(t)*Derivative(\\theta_1(t), (t, 2)) - 1.0*m*\\theta_1(t)*\\theta_2(t)*r_1(t)*Derivative(\\theta_1(t), (t, 2)) - 1.0*m*\\theta_1(t)*\\theta_2(t)*r_2(t)*Derivative(\\theta_1(t), (t, 2)) - 1.0*m*\\theta_1(t)*\\theta_2(t)*Derivative(\\theta_1(t), (t, 2)) - 1.0*m*r_1(t)*r_2(t)*Derivative(\\theta_1(t), (t, 2)) - 1.0*m*r_1(t)*Derivative(\\theta_1(t), (t, 2)) - 1.0*m*r_2(t)*Derivative(\\theta_1(t), (t, 2)) - 2.0*m*r_2(t)*Derivative(\\theta_2(t), (t, 2)) - 1.0*m*Derivative(\\theta_1(t), (t, 2)) - 1.0*m*Derivative(\\theta_2(t), (t, 2)) + (-2.0*m*r_2(t)*Derivative(\\theta_2(t), t) - 2.0*m*Derivative(\\theta_2(t), t))*Derivative(r_2(t), t) + (-1.0*m*\\theta_1(t)*r_2(t) - 1.0*m*\\theta_1(t) + 1.0*m*\\theta_2(t)*r_2(t) + 1.0*m*\\theta_2(t))*Derivative(r_1(t), (t, 2)) + (-2.0*m*\\theta_1(t)*\\theta_2(t)*r_2(t)*Derivative(\\theta_1(t), t) - 2.0*m*\\theta_1(t)*\\theta_2(t)*Derivative(\\theta_1(t), t) - 2.0*m*r_2(t)*Derivative(\\theta_1(t), t) - 2.0*m*Derivative(\\theta_1(t), t))*Derivative(r_1(t), t)"
      ]
     },
     "execution_count": 31,
     "metadata": {},
     "output_type": "execute_result"
    }
   ],
   "source": [
    "reduced_eqs[1]"
   ]
  },
  {
   "cell_type": "code",
   "execution_count": 32,
   "metadata": {},
   "outputs": [
    {
     "data": {
      "text/latex": [
       "$\\displaystyle 2.0 g m \\theta_{1}{\\left(t \\right)} - 1.0 k \\operatorname{r_{1}}{\\left(t \\right)} - 1.0 m \\theta_{1}{\\left(t \\right)} \\frac{d^{2}}{d t^{2}} \\theta_{2}{\\left(t \\right)} + 1.0 m \\theta_{2}{\\left(t \\right)} \\frac{d^{2}}{d t^{2}} \\theta_{2}{\\left(t \\right)} - 2.0 m \\frac{d^{2}}{d t^{2}} \\operatorname{r_{1}}{\\left(t \\right)} + \\left(- 1.0 m \\theta_{1}{\\left(t \\right)} \\theta_{2}{\\left(t \\right)} - 1.0 m\\right) \\frac{d^{2}}{d t^{2}} \\operatorname{r_{2}}{\\left(t \\right)} + \\left(- 2.0 m \\theta_{1}{\\left(t \\right)} \\frac{d}{d t} \\theta_{2}{\\left(t \\right)} + 2.0 m \\theta_{2}{\\left(t \\right)} \\frac{d}{d t} \\theta_{2}{\\left(t \\right)}\\right) \\frac{d}{d t} \\operatorname{r_{2}}{\\left(t \\right)} + \\left(- 1.0 m \\theta_{1}{\\left(t \\right)} \\frac{d^{2}}{d t^{2}} \\theta_{2}{\\left(t \\right)} + 1.0 m \\theta_{2}{\\left(t \\right)} \\frac{d^{2}}{d t^{2}} \\theta_{2}{\\left(t \\right)}\\right) \\operatorname{r_{2}}{\\left(t \\right)}$"
      ],
      "text/plain": [
       "2.0*g*m*\\theta_1(t) - 1.0*k*r_1(t) - 1.0*m*\\theta_1(t)*Derivative(\\theta_2(t), (t, 2)) + 1.0*m*\\theta_2(t)*Derivative(\\theta_2(t), (t, 2)) - 2.0*m*Derivative(r_1(t), (t, 2)) + (-1.0*m*\\theta_1(t)*\\theta_2(t) - 1.0*m)*Derivative(r_2(t), (t, 2)) + (-2.0*m*\\theta_1(t)*Derivative(\\theta_2(t), t) + 2.0*m*\\theta_2(t)*Derivative(\\theta_2(t), t))*Derivative(r_2(t), t) + (-1.0*m*\\theta_1(t)*Derivative(\\theta_2(t), (t, 2)) + 1.0*m*\\theta_2(t)*Derivative(\\theta_2(t), (t, 2)))*r_2(t)"
      ]
     },
     "execution_count": 32,
     "metadata": {},
     "output_type": "execute_result"
    }
   ],
   "source": [
    "reduced_eqs[2]"
   ]
  },
  {
   "cell_type": "code",
   "execution_count": 33,
   "metadata": {},
   "outputs": [
    {
     "data": {
      "text/latex": [
       "$\\displaystyle 1.0 g m \\theta_{2}{\\left(t \\right)} - 1.0 k \\operatorname{r_{2}}{\\left(t \\right)} + 1.0 m \\theta_{1}{\\left(t \\right)} \\frac{d^{2}}{d t^{2}} \\theta_{1}{\\left(t \\right)} - 1.0 m \\theta_{2}{\\left(t \\right)} \\frac{d^{2}}{d t^{2}} \\theta_{1}{\\left(t \\right)} - 1.0 m \\frac{d^{2}}{d t^{2}} \\operatorname{r_{2}}{\\left(t \\right)} + \\left(- 1.0 m \\theta_{1}{\\left(t \\right)} \\theta_{2}{\\left(t \\right)} - 1.0 m\\right) \\frac{d^{2}}{d t^{2}} \\operatorname{r_{1}}{\\left(t \\right)} + \\left(2.0 m \\theta_{1}{\\left(t \\right)} \\frac{d}{d t} \\theta_{1}{\\left(t \\right)} - 2.0 m \\theta_{2}{\\left(t \\right)} \\frac{d}{d t} \\theta_{1}{\\left(t \\right)}\\right) \\frac{d}{d t} \\operatorname{r_{1}}{\\left(t \\right)} + \\left(1.0 m \\theta_{1}{\\left(t \\right)} \\frac{d^{2}}{d t^{2}} \\theta_{1}{\\left(t \\right)} - 1.0 m \\theta_{2}{\\left(t \\right)} \\frac{d^{2}}{d t^{2}} \\theta_{1}{\\left(t \\right)}\\right) \\operatorname{r_{1}}{\\left(t \\right)}$"
      ],
      "text/plain": [
       "1.0*g*m*\\theta_2(t) - 1.0*k*r_2(t) + 1.0*m*\\theta_1(t)*Derivative(\\theta_1(t), (t, 2)) - 1.0*m*\\theta_2(t)*Derivative(\\theta_1(t), (t, 2)) - 1.0*m*Derivative(r_2(t), (t, 2)) + (-1.0*m*\\theta_1(t)*\\theta_2(t) - 1.0*m)*Derivative(r_1(t), (t, 2)) + (2.0*m*\\theta_1(t)*Derivative(\\theta_1(t), t) - 2.0*m*\\theta_2(t)*Derivative(\\theta_1(t), t))*Derivative(r_1(t), t) + (1.0*m*\\theta_1(t)*Derivative(\\theta_1(t), (t, 2)) - 1.0*m*\\theta_2(t)*Derivative(\\theta_1(t), (t, 2)))*r_1(t)"
      ]
     },
     "execution_count": 33,
     "metadata": {},
     "output_type": "execute_result"
    }
   ],
   "source": [
    "reduced_eqs[3]"
   ]
  },
  {
   "cell_type": "markdown",
   "metadata": {},
   "source": [
    "# Analytical solution (does not work)"
   ]
  },
  {
   "cell_type": "code",
   "execution_count": 34,
   "metadata": {},
   "outputs": [],
   "source": [
    "reduced_equalities = [sp.Eq(reduced_eqs[i], 0) for i in range(4)]"
   ]
  },
  {
   "cell_type": "code",
   "execution_count": 35,
   "metadata": {},
   "outputs": [
    {
     "ename": "KeyboardInterrupt",
     "evalue": "",
     "output_type": "error",
     "traceback": [
      "\u001b[1;31m---------------------------------------------------------------------------\u001b[0m",
      "\u001b[1;31mKeyboardInterrupt\u001b[0m                         Traceback (most recent call last)",
      "Cell \u001b[1;32mIn[35], line 3\u001b[0m\n\u001b[0;32m      1\u001b[0m \u001b[38;5;28;01mfrom\u001b[39;00m \u001b[38;5;21;01msympy\u001b[39;00m\u001b[38;5;21;01m.\u001b[39;00m\u001b[38;5;21;01msolvers\u001b[39;00m\u001b[38;5;21;01m.\u001b[39;00m\u001b[38;5;21;01mode\u001b[39;00m\u001b[38;5;21;01m.\u001b[39;00m\u001b[38;5;21;01msystems\u001b[39;00m \u001b[38;5;28;01mimport\u001b[39;00m dsolve_system\n\u001b[1;32m----> 3\u001b[0m dsols \u001b[38;5;241m=\u001b[39m \u001b[43mdsolve_system\u001b[49m\u001b[43m(\u001b[49m\n\u001b[0;32m      4\u001b[0m \u001b[43m  \u001b[49m\u001b[43mreduced_equalities\u001b[49m\u001b[43m,\u001b[49m\n\u001b[0;32m      5\u001b[0m \u001b[43m  \u001b[49m\u001b[43mics\u001b[49m\u001b[38;5;241;43m=\u001b[39;49m\u001b[43m{\u001b[49m\n\u001b[0;32m      6\u001b[0m \u001b[43m    \u001b[49m\u001b[43mthe1\u001b[49m\u001b[38;5;241;43m.\u001b[39;49m\u001b[43msubs\u001b[49m\u001b[43m(\u001b[49m\u001b[43mt\u001b[49m\u001b[43m,\u001b[49m\u001b[43m \u001b[49m\u001b[38;5;241;43m0\u001b[39;49m\u001b[43m)\u001b[49m\u001b[43m:\u001b[49m\u001b[43m \u001b[49m\u001b[38;5;241;43m0\u001b[39;49m\u001b[43m,\u001b[49m\n\u001b[0;32m      7\u001b[0m \u001b[43m    \u001b[49m\u001b[43mthe1_d\u001b[49m\u001b[38;5;241;43m.\u001b[39;49m\u001b[43msubs\u001b[49m\u001b[43m(\u001b[49m\u001b[43mt\u001b[49m\u001b[43m,\u001b[49m\u001b[43m \u001b[49m\u001b[38;5;241;43m0\u001b[39;49m\u001b[43m)\u001b[49m\u001b[43m:\u001b[49m\u001b[43m \u001b[49m\u001b[38;5;241;43m0\u001b[39;49m\u001b[43m,\u001b[49m\n\u001b[0;32m      8\u001b[0m \n\u001b[0;32m      9\u001b[0m \u001b[43m    \u001b[49m\u001b[43mthe2\u001b[49m\u001b[38;5;241;43m.\u001b[39;49m\u001b[43msubs\u001b[49m\u001b[43m(\u001b[49m\u001b[43mt\u001b[49m\u001b[43m,\u001b[49m\u001b[43m \u001b[49m\u001b[38;5;241;43m0\u001b[39;49m\u001b[43m)\u001b[49m\u001b[43m:\u001b[49m\u001b[43m \u001b[49m\u001b[38;5;241;43m0\u001b[39;49m\u001b[43m,\u001b[49m\n\u001b[0;32m     10\u001b[0m \u001b[43m    \u001b[49m\u001b[43mthe2_d\u001b[49m\u001b[38;5;241;43m.\u001b[39;49m\u001b[43msubs\u001b[49m\u001b[43m(\u001b[49m\u001b[43mt\u001b[49m\u001b[43m,\u001b[49m\u001b[43m \u001b[49m\u001b[38;5;241;43m0\u001b[39;49m\u001b[43m)\u001b[49m\u001b[43m:\u001b[49m\u001b[43m \u001b[49m\u001b[38;5;241;43m0\u001b[39;49m\u001b[43m,\u001b[49m\n\u001b[0;32m     11\u001b[0m \n\u001b[0;32m     12\u001b[0m \u001b[43m    \u001b[49m\u001b[43mr1\u001b[49m\u001b[38;5;241;43m.\u001b[39;49m\u001b[43msubs\u001b[49m\u001b[43m(\u001b[49m\u001b[43mt\u001b[49m\u001b[43m,\u001b[49m\u001b[43m \u001b[49m\u001b[38;5;241;43m0\u001b[39;49m\u001b[43m)\u001b[49m\u001b[43m:\u001b[49m\u001b[43m \u001b[49m\u001b[38;5;241;43m0\u001b[39;49m\u001b[43m,\u001b[49m\n\u001b[0;32m     13\u001b[0m \u001b[43m    \u001b[49m\u001b[43mr1_d\u001b[49m\u001b[38;5;241;43m.\u001b[39;49m\u001b[43msubs\u001b[49m\u001b[43m(\u001b[49m\u001b[43mt\u001b[49m\u001b[43m,\u001b[49m\u001b[43m \u001b[49m\u001b[38;5;241;43m0\u001b[39;49m\u001b[43m)\u001b[49m\u001b[43m:\u001b[49m\u001b[43m \u001b[49m\u001b[38;5;241;43m0\u001b[39;49m\u001b[43m,\u001b[49m\n\u001b[0;32m     14\u001b[0m \n\u001b[0;32m     15\u001b[0m \u001b[43m    \u001b[49m\u001b[43mr2\u001b[49m\u001b[38;5;241;43m.\u001b[39;49m\u001b[43msubs\u001b[49m\u001b[43m(\u001b[49m\u001b[43mt\u001b[49m\u001b[43m,\u001b[49m\u001b[43m \u001b[49m\u001b[38;5;241;43m0\u001b[39;49m\u001b[43m)\u001b[49m\u001b[43m:\u001b[49m\u001b[43m \u001b[49m\u001b[38;5;241;43m0\u001b[39;49m\u001b[43m,\u001b[49m\n\u001b[0;32m     16\u001b[0m \u001b[43m    \u001b[49m\u001b[43mr2_d\u001b[49m\u001b[38;5;241;43m.\u001b[39;49m\u001b[43msubs\u001b[49m\u001b[43m(\u001b[49m\u001b[43mt\u001b[49m\u001b[43m,\u001b[49m\u001b[43m \u001b[49m\u001b[38;5;241;43m0\u001b[39;49m\u001b[43m)\u001b[49m\u001b[43m:\u001b[49m\u001b[43m \u001b[49m\u001b[38;5;241;43m0\u001b[39;49m\u001b[43m,\u001b[49m\n\u001b[0;32m     17\u001b[0m \u001b[43m  \u001b[49m\u001b[43m}\u001b[49m\n\u001b[0;32m     18\u001b[0m \u001b[43m)\u001b[49m\n",
      "File \u001b[1;32mc:\\Users\\lurker\\miniconda3\\envs\\physics\\Lib\\site-packages\\sympy\\solvers\\ode\\systems.py:2112\u001b[0m, in \u001b[0;36mdsolve_system\u001b[1;34m(eqs, funcs, t, ics, doit, simplify)\u001b[0m\n\u001b[0;32m   2109\u001b[0m     t \u001b[38;5;241m=\u001b[39m \u001b[38;5;28mlist\u001b[39m(\u001b[38;5;28mlist\u001b[39m(eqs[\u001b[38;5;241m0\u001b[39m]\u001b[38;5;241m.\u001b[39matoms(Derivative))[\u001b[38;5;241m0\u001b[39m]\u001b[38;5;241m.\u001b[39matoms(Symbol))[\u001b[38;5;241m0\u001b[39m]\n\u001b[0;32m   2111\u001b[0m sols \u001b[38;5;241m=\u001b[39m []\n\u001b[1;32m-> 2112\u001b[0m canon_eqs \u001b[38;5;241m=\u001b[39m \u001b[43mcanonical_odes\u001b[49m\u001b[43m(\u001b[49m\u001b[43meqs\u001b[49m\u001b[43m,\u001b[49m\u001b[43m \u001b[49m\u001b[43mfuncs\u001b[49m\u001b[43m,\u001b[49m\u001b[43m \u001b[49m\u001b[43mt\u001b[49m\u001b[43m)\u001b[49m\n\u001b[0;32m   2114\u001b[0m \u001b[38;5;28;01mfor\u001b[39;00m canon_eq \u001b[38;5;129;01min\u001b[39;00m canon_eqs:\n\u001b[0;32m   2115\u001b[0m     \u001b[38;5;28;01mtry\u001b[39;00m:\n",
      "File \u001b[1;32mc:\\Users\\lurker\\miniconda3\\envs\\physics\\Lib\\site-packages\\sympy\\solvers\\ode\\systems.py:1077\u001b[0m, in \u001b[0;36mcanonical_odes\u001b[1;34m(eqs, funcs, t)\u001b[0m\n\u001b[0;32m   1073\u001b[0m \u001b[38;5;28;01mfrom\u001b[39;00m \u001b[38;5;21;01msympy\u001b[39;00m\u001b[38;5;21;01m.\u001b[39;00m\u001b[38;5;21;01msolvers\u001b[39;00m\u001b[38;5;21;01m.\u001b[39;00m\u001b[38;5;21;01msolvers\u001b[39;00m \u001b[38;5;28;01mimport\u001b[39;00m solve\n\u001b[0;32m   1075\u001b[0m order \u001b[38;5;241m=\u001b[39m _get_func_order(eqs, funcs)\n\u001b[1;32m-> 1077\u001b[0m canon_eqs \u001b[38;5;241m=\u001b[39m \u001b[43msolve\u001b[49m\u001b[43m(\u001b[49m\u001b[43meqs\u001b[49m\u001b[43m,\u001b[49m\u001b[43m \u001b[49m\u001b[38;5;241;43m*\u001b[39;49m\u001b[43m[\u001b[49m\u001b[43mfunc\u001b[49m\u001b[38;5;241;43m.\u001b[39;49m\u001b[43mdiff\u001b[49m\u001b[43m(\u001b[49m\u001b[43mt\u001b[49m\u001b[43m,\u001b[49m\u001b[43m \u001b[49m\u001b[43morder\u001b[49m\u001b[43m[\u001b[49m\u001b[43mfunc\u001b[49m\u001b[43m]\u001b[49m\u001b[43m)\u001b[49m\u001b[43m \u001b[49m\u001b[38;5;28;43;01mfor\u001b[39;49;00m\u001b[43m \u001b[49m\u001b[43mfunc\u001b[49m\u001b[43m \u001b[49m\u001b[38;5;129;43;01min\u001b[39;49;00m\u001b[43m \u001b[49m\u001b[43mfuncs\u001b[49m\u001b[43m]\u001b[49m\u001b[43m,\u001b[49m\u001b[43m \u001b[49m\u001b[38;5;28;43mdict\u001b[39;49m\u001b[38;5;241;43m=\u001b[39;49m\u001b[38;5;28;43;01mTrue\u001b[39;49;00m\u001b[43m)\u001b[49m\n\u001b[0;32m   1079\u001b[0m systems \u001b[38;5;241m=\u001b[39m []\n\u001b[0;32m   1080\u001b[0m \u001b[38;5;28;01mfor\u001b[39;00m eq \u001b[38;5;129;01min\u001b[39;00m canon_eqs:\n",
      "File \u001b[1;32mc:\\Users\\lurker\\miniconda3\\envs\\physics\\Lib\\site-packages\\sympy\\solvers\\solvers.py:1097\u001b[0m, in \u001b[0;36msolve\u001b[1;34m(f, *symbols, **flags)\u001b[0m\n\u001b[0;32m   1095\u001b[0m     solution \u001b[38;5;241m=\u001b[39m _solve(f[\u001b[38;5;241m0\u001b[39m], \u001b[38;5;241m*\u001b[39msymbols, \u001b[38;5;241m*\u001b[39m\u001b[38;5;241m*\u001b[39mflags)\n\u001b[0;32m   1096\u001b[0m \u001b[38;5;28;01melse\u001b[39;00m:\n\u001b[1;32m-> 1097\u001b[0m     solution \u001b[38;5;241m=\u001b[39m \u001b[43m_solve_system\u001b[49m\u001b[43m(\u001b[49m\u001b[43mf\u001b[49m\u001b[43m,\u001b[49m\u001b[43m \u001b[49m\u001b[43msymbols\u001b[49m\u001b[43m,\u001b[49m\u001b[43m \u001b[49m\u001b[38;5;241;43m*\u001b[39;49m\u001b[38;5;241;43m*\u001b[39;49m\u001b[43mflags\u001b[49m\u001b[43m)\u001b[49m\n\u001b[0;32m   1099\u001b[0m \u001b[38;5;66;03m#\u001b[39;00m\n\u001b[0;32m   1100\u001b[0m \u001b[38;5;66;03m# postprocessing\u001b[39;00m\n\u001b[0;32m   1101\u001b[0m \u001b[38;5;66;03m###########################################################################\u001b[39;00m\n\u001b[0;32m   1102\u001b[0m \u001b[38;5;66;03m# Restore masked-off objects\u001b[39;00m\n\u001b[0;32m   1103\u001b[0m \u001b[38;5;28;01mif\u001b[39;00m non_inverts:\n",
      "File \u001b[1;32mc:\\Users\\lurker\\miniconda3\\envs\\physics\\Lib\\site-packages\\sympy\\solvers\\solvers.py:1830\u001b[0m, in \u001b[0;36m_solve_system\u001b[1;34m(exprs, symbols, **flags)\u001b[0m\n\u001b[0;32m   1828\u001b[0m     result \u001b[38;5;241m=\u001b[39m minsolve_linear_system(matrix, \u001b[38;5;241m*\u001b[39msymbols, \u001b[38;5;241m*\u001b[39m\u001b[38;5;241m*\u001b[39mflags)\n\u001b[0;32m   1829\u001b[0m \u001b[38;5;28;01melse\u001b[39;00m:\n\u001b[1;32m-> 1830\u001b[0m     result \u001b[38;5;241m=\u001b[39m \u001b[43msolve_linear_system\u001b[49m\u001b[43m(\u001b[49m\u001b[43mmatrix\u001b[49m\u001b[43m,\u001b[49m\u001b[43m \u001b[49m\u001b[38;5;241;43m*\u001b[39;49m\u001b[43msymbols\u001b[49m\u001b[43m,\u001b[49m\u001b[43m \u001b[49m\u001b[38;5;241;43m*\u001b[39;49m\u001b[38;5;241;43m*\u001b[39;49m\u001b[43mflags\u001b[49m\u001b[43m)\u001b[49m\n\u001b[0;32m   1831\u001b[0m \u001b[38;5;28;01mif\u001b[39;00m failed:\n\u001b[0;32m   1832\u001b[0m     \u001b[38;5;28;01mif\u001b[39;00m result:\n",
      "File \u001b[1;32mc:\\Users\\lurker\\miniconda3\\envs\\physics\\Lib\\site-packages\\sympy\\solvers\\solvers.py:2304\u001b[0m, in \u001b[0;36msolve_linear_system\u001b[1;34m(system, *symbols, **flags)\u001b[0m\n\u001b[0;32m   2302\u001b[0m eqs \u001b[38;5;241m=\u001b[39m \u001b[38;5;28mlist\u001b[39m(system \u001b[38;5;241m*\u001b[39m Matrix(symbols \u001b[38;5;241m+\u001b[39m (\u001b[38;5;241m-\u001b[39m\u001b[38;5;241m1\u001b[39m,)))\n\u001b[0;32m   2303\u001b[0m eqs, ring \u001b[38;5;241m=\u001b[39m sympy_eqs_to_ring(eqs, symbols)\n\u001b[1;32m-> 2304\u001b[0m sol \u001b[38;5;241m=\u001b[39m \u001b[43msolve_lin_sys\u001b[49m\u001b[43m(\u001b[49m\u001b[43meqs\u001b[49m\u001b[43m,\u001b[49m\u001b[43m \u001b[49m\u001b[43mring\u001b[49m\u001b[43m,\u001b[49m\u001b[43m \u001b[49m\u001b[43m_raw\u001b[49m\u001b[38;5;241;43m=\u001b[39;49m\u001b[38;5;28;43;01mFalse\u001b[39;49;00m\u001b[43m)\u001b[49m\n\u001b[0;32m   2305\u001b[0m \u001b[38;5;28;01mif\u001b[39;00m sol \u001b[38;5;129;01mis\u001b[39;00m \u001b[38;5;129;01mnot\u001b[39;00m \u001b[38;5;28;01mNone\u001b[39;00m:\n\u001b[0;32m   2306\u001b[0m     sol \u001b[38;5;241m=\u001b[39m {sym:val \u001b[38;5;28;01mfor\u001b[39;00m sym, val \u001b[38;5;129;01min\u001b[39;00m sol\u001b[38;5;241m.\u001b[39mitems() \u001b[38;5;28;01mif\u001b[39;00m sym \u001b[38;5;241m!=\u001b[39m val}\n",
      "File \u001b[1;32mc:\\Users\\lurker\\miniconda3\\envs\\physics\\Lib\\site-packages\\sympy\\polys\\solvers.py:227\u001b[0m, in \u001b[0;36msolve_lin_sys\u001b[1;34m(eqs, ring, _raw)\u001b[0m\n\u001b[0;32m    224\u001b[0m     eqs_rhs\u001b[38;5;241m.\u001b[39mappend(eq_rhs)\n\u001b[0;32m    225\u001b[0m     eqs_coeffs\u001b[38;5;241m.\u001b[39mappend(eq_coeffs)\n\u001b[1;32m--> 227\u001b[0m result \u001b[38;5;241m=\u001b[39m \u001b[43m_solve_lin_sys\u001b[49m\u001b[43m(\u001b[49m\u001b[43meqs_coeffs\u001b[49m\u001b[43m,\u001b[49m\u001b[43m \u001b[49m\u001b[43meqs_rhs\u001b[49m\u001b[43m,\u001b[49m\u001b[43m \u001b[49m\u001b[43mring\u001b[49m\u001b[43m)\u001b[49m\n\u001b[0;32m    229\u001b[0m \u001b[38;5;28;01mif\u001b[39;00m result \u001b[38;5;129;01mis\u001b[39;00m \u001b[38;5;129;01mnot\u001b[39;00m \u001b[38;5;28;01mNone\u001b[39;00m \u001b[38;5;129;01mand\u001b[39;00m as_expr:\n\u001b[0;32m    231\u001b[0m     \u001b[38;5;28;01mdef\u001b[39;00m \u001b[38;5;21mto_sympy\u001b[39m(x):\n",
      "File \u001b[1;32mc:\\Users\\lurker\\miniconda3\\envs\\physics\\Lib\\site-packages\\sympy\\polys\\solvers.py:305\u001b[0m, in \u001b[0;36m_solve_lin_sys\u001b[1;34m(eqs_coeffs, eqs_rhs, ring)\u001b[0m\n\u001b[0;32m    303\u001b[0m sol \u001b[38;5;241m=\u001b[39m {}\n\u001b[0;32m    304\u001b[0m \u001b[38;5;28;01mfor\u001b[39;00m subsystem \u001b[38;5;129;01min\u001b[39;00m subsystems:\n\u001b[1;32m--> 305\u001b[0m     subsol \u001b[38;5;241m=\u001b[39m \u001b[43m_solve_lin_sys_component\u001b[49m\u001b[43m(\u001b[49m\u001b[43msubsystem\u001b[49m\u001b[43m[\u001b[49m\u001b[38;5;241;43m0\u001b[39;49m\u001b[43m]\u001b[49m\u001b[43m,\u001b[49m\u001b[43m \u001b[49m\u001b[43msubsystem\u001b[49m\u001b[43m[\u001b[49m\u001b[38;5;241;43m1\u001b[39;49m\u001b[43m]\u001b[49m\u001b[43m,\u001b[49m\u001b[43m \u001b[49m\u001b[43mring\u001b[49m\u001b[43m)\u001b[49m\n\u001b[0;32m    306\u001b[0m     \u001b[38;5;28;01mif\u001b[39;00m subsol \u001b[38;5;129;01mis\u001b[39;00m \u001b[38;5;28;01mNone\u001b[39;00m:\n\u001b[0;32m    307\u001b[0m         \u001b[38;5;28;01mreturn\u001b[39;00m \u001b[38;5;28;01mNone\u001b[39;00m\n",
      "File \u001b[1;32mc:\\Users\\lurker\\miniconda3\\envs\\physics\\Lib\\site-packages\\sympy\\polys\\solvers.py:353\u001b[0m, in \u001b[0;36m_solve_lin_sys_component\u001b[1;34m(eqs_coeffs, eqs_rhs, ring)\u001b[0m\n\u001b[0;32m    350\u001b[0m     matrix \u001b[38;5;241m=\u001b[39m matrix\u001b[38;5;241m.\u001b[39mto_field()\n\u001b[0;32m    352\u001b[0m \u001b[38;5;66;03m# solve by row-reduction\u001b[39;00m\n\u001b[1;32m--> 353\u001b[0m echelon, pivots \u001b[38;5;241m=\u001b[39m \u001b[43mmatrix\u001b[49m\u001b[38;5;241;43m.\u001b[39;49m\u001b[43mrref\u001b[49m\u001b[43m(\u001b[49m\u001b[43m)\u001b[49m\n\u001b[0;32m    355\u001b[0m \u001b[38;5;66;03m# construct the returnable form of the solutions\u001b[39;00m\n\u001b[0;32m    356\u001b[0m keys \u001b[38;5;241m=\u001b[39m ring\u001b[38;5;241m.\u001b[39mgens\n",
      "File \u001b[1;32mc:\\Users\\lurker\\miniconda3\\envs\\physics\\Lib\\site-packages\\sympy\\polys\\matrices\\domainmatrix.py:869\u001b[0m, in \u001b[0;36mDomainMatrix.rref\u001b[1;34m(self)\u001b[0m\n\u001b[0;32m    867\u001b[0m \u001b[38;5;28;01mif\u001b[39;00m \u001b[38;5;129;01mnot\u001b[39;00m \u001b[38;5;28mself\u001b[39m\u001b[38;5;241m.\u001b[39mdomain\u001b[38;5;241m.\u001b[39mis_Field:\n\u001b[0;32m    868\u001b[0m     \u001b[38;5;28;01mraise\u001b[39;00m \u001b[38;5;167;01mValueError\u001b[39;00m(\u001b[38;5;124m'\u001b[39m\u001b[38;5;124mNot a field\u001b[39m\u001b[38;5;124m'\u001b[39m)\n\u001b[1;32m--> 869\u001b[0m rref_ddm, pivots \u001b[38;5;241m=\u001b[39m \u001b[38;5;28;43mself\u001b[39;49m\u001b[38;5;241;43m.\u001b[39;49m\u001b[43mrep\u001b[49m\u001b[38;5;241;43m.\u001b[39;49m\u001b[43mrref\u001b[49m\u001b[43m(\u001b[49m\u001b[43m)\u001b[49m\n\u001b[0;32m    870\u001b[0m \u001b[38;5;28;01mreturn\u001b[39;00m \u001b[38;5;28mself\u001b[39m\u001b[38;5;241m.\u001b[39mfrom_rep(rref_ddm), \u001b[38;5;28mtuple\u001b[39m(pivots)\n",
      "File \u001b[1;32mc:\\Users\\lurker\\miniconda3\\envs\\physics\\Lib\\site-packages\\sympy\\polys\\matrices\\ddm.py:243\u001b[0m, in \u001b[0;36mDDM.rref\u001b[1;34m(a)\u001b[0m\n\u001b[0;32m    241\u001b[0m \u001b[38;5;250m\u001b[39m\u001b[38;5;124;03m\"\"\"Reduced-row echelon form of a and list of pivots\"\"\"\u001b[39;00m\n\u001b[0;32m    242\u001b[0m b \u001b[38;5;241m=\u001b[39m a\u001b[38;5;241m.\u001b[39mcopy()\n\u001b[1;32m--> 243\u001b[0m pivots \u001b[38;5;241m=\u001b[39m \u001b[43mddm_irref\u001b[49m\u001b[43m(\u001b[49m\u001b[43mb\u001b[49m\u001b[43m)\u001b[49m\n\u001b[0;32m    244\u001b[0m \u001b[38;5;28;01mreturn\u001b[39;00m b, pivots\n",
      "File \u001b[1;32mc:\\Users\\lurker\\miniconda3\\envs\\physics\\Lib\\site-packages\\sympy\\polys\\matrices\\dense.py:122\u001b[0m, in \u001b[0;36mddm_irref\u001b[1;34m(a)\u001b[0m\n\u001b[0;32m    120\u001b[0m     ak[j] \u001b[38;5;241m-\u001b[39m\u001b[38;5;241m=\u001b[39m akj \u001b[38;5;66;03m# ak[j] = zero\u001b[39;00m\n\u001b[0;32m    121\u001b[0m     \u001b[38;5;28;01mfor\u001b[39;00m l \u001b[38;5;129;01min\u001b[39;00m \u001b[38;5;28mrange\u001b[39m(j\u001b[38;5;241m+\u001b[39m\u001b[38;5;241m1\u001b[39m, n):\n\u001b[1;32m--> 122\u001b[0m         \u001b[43mak\u001b[49m\u001b[43m[\u001b[49m\u001b[43ml\u001b[49m\u001b[43m]\u001b[49m\u001b[43m \u001b[49m\u001b[38;5;241;43m-\u001b[39;49m\u001b[38;5;241;43m=\u001b[39;49m\u001b[43m \u001b[49m\u001b[43makj\u001b[49m\u001b[43m \u001b[49m\u001b[38;5;241;43m*\u001b[39;49m\u001b[43m \u001b[49m\u001b[43mai\u001b[49m\u001b[43m[\u001b[49m\u001b[43ml\u001b[49m\u001b[43m]\u001b[49m\n\u001b[0;32m    124\u001b[0m \u001b[38;5;66;03m# next row\u001b[39;00m\n\u001b[0;32m    125\u001b[0m pivots\u001b[38;5;241m.\u001b[39mappend(j)\n",
      "File \u001b[1;32mc:\\Users\\lurker\\miniconda3\\envs\\physics\\Lib\\site-packages\\sympy\\polys\\domains\\expressiondomain.py:79\u001b[0m, in \u001b[0;36mExpressionDomain.Expression.__sub__\u001b[1;34m(f, g)\u001b[0m\n\u001b[0;32m     76\u001b[0m g \u001b[38;5;241m=\u001b[39m f\u001b[38;5;241m.\u001b[39m_to_ex(g)\n\u001b[0;32m     78\u001b[0m \u001b[38;5;28;01mif\u001b[39;00m g \u001b[38;5;129;01mis\u001b[39;00m \u001b[38;5;129;01mnot\u001b[39;00m \u001b[38;5;28;01mNone\u001b[39;00m:\n\u001b[1;32m---> 79\u001b[0m     \u001b[38;5;28;01mreturn\u001b[39;00m \u001b[43mf\u001b[49m\u001b[38;5;241;43m.\u001b[39;49m\u001b[43msimplify\u001b[49m\u001b[43m(\u001b[49m\u001b[43mf\u001b[49m\u001b[38;5;241;43m.\u001b[39;49m\u001b[43mex\u001b[49m\u001b[43m \u001b[49m\u001b[38;5;241;43m-\u001b[39;49m\u001b[43m \u001b[49m\u001b[43mg\u001b[49m\u001b[38;5;241;43m.\u001b[39;49m\u001b[43mex\u001b[49m\u001b[43m)\u001b[49m\n\u001b[0;32m     80\u001b[0m \u001b[38;5;28;01melse\u001b[39;00m:\n\u001b[0;32m     81\u001b[0m     \u001b[38;5;28;01mreturn\u001b[39;00m \u001b[38;5;28mNotImplemented\u001b[39m\n",
      "File \u001b[1;32mc:\\Users\\lurker\\miniconda3\\envs\\physics\\Lib\\site-packages\\sympy\\polys\\domains\\expressiondomain.py:50\u001b[0m, in \u001b[0;36mExpressionDomain.Expression.simplify\u001b[1;34m(f, ex)\u001b[0m\n\u001b[0;32m     49\u001b[0m \u001b[38;5;28;01mdef\u001b[39;00m \u001b[38;5;21msimplify\u001b[39m(f, ex):\n\u001b[1;32m---> 50\u001b[0m     \u001b[38;5;28;01mreturn\u001b[39;00m f\u001b[38;5;241m.\u001b[39m\u001b[38;5;18m__class__\u001b[39m(\u001b[43mex\u001b[49m\u001b[38;5;241;43m.\u001b[39;49m\u001b[43mcancel\u001b[49m\u001b[43m(\u001b[49m\u001b[43m)\u001b[49m\u001b[38;5;241m.\u001b[39mexpand(\u001b[38;5;241m*\u001b[39m\u001b[38;5;241m*\u001b[39meflags))\n",
      "File \u001b[1;32mc:\\Users\\lurker\\miniconda3\\envs\\physics\\Lib\\site-packages\\sympy\\core\\expr.py:3707\u001b[0m, in \u001b[0;36mExpr.cancel\u001b[1;34m(self, *gens, **args)\u001b[0m\n\u001b[0;32m   3705\u001b[0m \u001b[38;5;250m\u001b[39m\u001b[38;5;124;03m\"\"\"See the cancel function in sympy.polys\"\"\"\u001b[39;00m\n\u001b[0;32m   3706\u001b[0m \u001b[38;5;28;01mfrom\u001b[39;00m \u001b[38;5;21;01msympy\u001b[39;00m\u001b[38;5;21;01m.\u001b[39;00m\u001b[38;5;21;01mpolys\u001b[39;00m \u001b[38;5;28;01mimport\u001b[39;00m cancel\n\u001b[1;32m-> 3707\u001b[0m \u001b[38;5;28;01mreturn\u001b[39;00m \u001b[43mcancel\u001b[49m\u001b[43m(\u001b[49m\u001b[38;5;28;43mself\u001b[39;49m\u001b[43m,\u001b[49m\u001b[43m \u001b[49m\u001b[38;5;241;43m*\u001b[39;49m\u001b[43mgens\u001b[49m\u001b[43m,\u001b[49m\u001b[43m \u001b[49m\u001b[38;5;241;43m*\u001b[39;49m\u001b[38;5;241;43m*\u001b[39;49m\u001b[43margs\u001b[49m\u001b[43m)\u001b[49m\n",
      "File \u001b[1;32mc:\\Users\\lurker\\miniconda3\\envs\\physics\\Lib\\site-packages\\sympy\\polys\\polytools.py:6737\u001b[0m, in \u001b[0;36mcancel\u001b[1;34m(f, *gens, **args)\u001b[0m\n\u001b[0;32m   6734\u001b[0m                 \u001b[38;5;28;01mpass\u001b[39;00m\n\u001b[0;32m   6735\u001b[0m         \u001b[38;5;28;01mreturn\u001b[39;00m f\u001b[38;5;241m.\u001b[39mxreplace(\u001b[38;5;28mdict\u001b[39m(reps))\n\u001b[1;32m-> 6737\u001b[0m c, (P, Q) \u001b[38;5;241m=\u001b[39m \u001b[38;5;241m1\u001b[39m, \u001b[43mF\u001b[49m\u001b[38;5;241;43m.\u001b[39;49m\u001b[43mcancel\u001b[49m\u001b[43m(\u001b[49m\u001b[43mG\u001b[49m\u001b[43m)\u001b[49m\n\u001b[0;32m   6738\u001b[0m \u001b[38;5;28;01mif\u001b[39;00m opt\u001b[38;5;241m.\u001b[39mget(\u001b[38;5;124m'\u001b[39m\u001b[38;5;124mpolys\u001b[39m\u001b[38;5;124m'\u001b[39m, \u001b[38;5;28;01mFalse\u001b[39;00m) \u001b[38;5;129;01mand\u001b[39;00m \u001b[38;5;129;01mnot\u001b[39;00m \u001b[38;5;124m'\u001b[39m\u001b[38;5;124mgens\u001b[39m\u001b[38;5;124m'\u001b[39m \u001b[38;5;129;01min\u001b[39;00m opt:\n\u001b[0;32m   6739\u001b[0m     opt[\u001b[38;5;124m'\u001b[39m\u001b[38;5;124mgens\u001b[39m\u001b[38;5;124m'\u001b[39m] \u001b[38;5;241m=\u001b[39m R\u001b[38;5;241m.\u001b[39msymbols\n",
      "File \u001b[1;32mc:\\Users\\lurker\\miniconda3\\envs\\physics\\Lib\\site-packages\\sympy\\polys\\rings.py:2220\u001b[0m, in \u001b[0;36mPolyElement.cancel\u001b[1;34m(self, g)\u001b[0m\n\u001b[0;32m   2217\u001b[0m domain \u001b[38;5;241m=\u001b[39m ring\u001b[38;5;241m.\u001b[39mdomain\n\u001b[0;32m   2219\u001b[0m \u001b[38;5;28;01mif\u001b[39;00m \u001b[38;5;129;01mnot\u001b[39;00m (domain\u001b[38;5;241m.\u001b[39mis_Field \u001b[38;5;129;01mand\u001b[39;00m domain\u001b[38;5;241m.\u001b[39mhas_assoc_Ring):\n\u001b[1;32m-> 2220\u001b[0m     _, p, q \u001b[38;5;241m=\u001b[39m \u001b[43mf\u001b[49m\u001b[38;5;241;43m.\u001b[39;49m\u001b[43mcofactors\u001b[49m\u001b[43m(\u001b[49m\u001b[43mg\u001b[49m\u001b[43m)\u001b[49m\n\u001b[0;32m   2222\u001b[0m     \u001b[38;5;28;01mif\u001b[39;00m q\u001b[38;5;241m.\u001b[39mis_negative:\n\u001b[0;32m   2223\u001b[0m         p, q \u001b[38;5;241m=\u001b[39m \u001b[38;5;241m-\u001b[39mp, \u001b[38;5;241m-\u001b[39mq\n",
      "File \u001b[1;32mc:\\Users\\lurker\\miniconda3\\envs\\physics\\Lib\\site-packages\\sympy\\polys\\rings.py:2136\u001b[0m, in \u001b[0;36mPolyElement.cofactors\u001b[1;34m(f, g)\u001b[0m\n\u001b[0;32m   2133\u001b[0m     \u001b[38;5;28;01mreturn\u001b[39;00m h, cff, cfg\n\u001b[0;32m   2135\u001b[0m J, (f, g) \u001b[38;5;241m=\u001b[39m f\u001b[38;5;241m.\u001b[39mdeflate(g)\n\u001b[1;32m-> 2136\u001b[0m h, cff, cfg \u001b[38;5;241m=\u001b[39m \u001b[43mf\u001b[49m\u001b[38;5;241;43m.\u001b[39;49m\u001b[43m_gcd\u001b[49m\u001b[43m(\u001b[49m\u001b[43mg\u001b[49m\u001b[43m)\u001b[49m\n\u001b[0;32m   2138\u001b[0m \u001b[38;5;28;01mreturn\u001b[39;00m (h\u001b[38;5;241m.\u001b[39minflate(J), cff\u001b[38;5;241m.\u001b[39minflate(J), cfg\u001b[38;5;241m.\u001b[39minflate(J))\n",
      "File \u001b[1;32mc:\\Users\\lurker\\miniconda3\\envs\\physics\\Lib\\site-packages\\sympy\\polys\\rings.py:2169\u001b[0m, in \u001b[0;36mPolyElement._gcd\u001b[1;34m(f, g)\u001b[0m\n\u001b[0;32m   2167\u001b[0m     \u001b[38;5;28;01mreturn\u001b[39;00m f\u001b[38;5;241m.\u001b[39m_gcd_QQ(g)\n\u001b[0;32m   2168\u001b[0m \u001b[38;5;28;01melif\u001b[39;00m ring\u001b[38;5;241m.\u001b[39mdomain\u001b[38;5;241m.\u001b[39mis_ZZ:\n\u001b[1;32m-> 2169\u001b[0m     \u001b[38;5;28;01mreturn\u001b[39;00m \u001b[43mf\u001b[49m\u001b[38;5;241;43m.\u001b[39;49m\u001b[43m_gcd_ZZ\u001b[49m\u001b[43m(\u001b[49m\u001b[43mg\u001b[49m\u001b[43m)\u001b[49m\n\u001b[0;32m   2170\u001b[0m \u001b[38;5;28;01melse\u001b[39;00m: \u001b[38;5;66;03m# TODO: don't use dense representation (port PRS algorithms)\u001b[39;00m\n\u001b[0;32m   2171\u001b[0m     \u001b[38;5;28;01mreturn\u001b[39;00m ring\u001b[38;5;241m.\u001b[39mdmp_inner_gcd(f, g)\n",
      "File \u001b[1;32mc:\\Users\\lurker\\miniconda3\\envs\\physics\\Lib\\site-packages\\sympy\\polys\\rings.py:2174\u001b[0m, in \u001b[0;36mPolyElement._gcd_ZZ\u001b[1;34m(f, g)\u001b[0m\n\u001b[0;32m   2173\u001b[0m \u001b[38;5;28;01mdef\u001b[39;00m \u001b[38;5;21m_gcd_ZZ\u001b[39m(f, g):\n\u001b[1;32m-> 2174\u001b[0m     \u001b[38;5;28;01mreturn\u001b[39;00m \u001b[43mheugcd\u001b[49m\u001b[43m(\u001b[49m\u001b[43mf\u001b[49m\u001b[43m,\u001b[49m\u001b[43m \u001b[49m\u001b[43mg\u001b[49m\u001b[43m)\u001b[49m\n",
      "File \u001b[1;32mc:\\Users\\lurker\\miniconda3\\envs\\physics\\Lib\\site-packages\\sympy\\polys\\heuristicgcd.py:80\u001b[0m, in \u001b[0;36mheugcd\u001b[1;34m(f, g)\u001b[0m\n\u001b[0;32m     78\u001b[0m     h, cff, cfg \u001b[38;5;241m=\u001b[39m domain\u001b[38;5;241m.\u001b[39mcofactors(ff, gg)\n\u001b[0;32m     79\u001b[0m \u001b[38;5;28;01melse\u001b[39;00m:\n\u001b[1;32m---> 80\u001b[0m     h, cff, cfg \u001b[38;5;241m=\u001b[39m \u001b[43mheugcd\u001b[49m\u001b[43m(\u001b[49m\u001b[43mff\u001b[49m\u001b[43m,\u001b[49m\u001b[43m \u001b[49m\u001b[43mgg\u001b[49m\u001b[43m)\u001b[49m\n\u001b[0;32m     82\u001b[0m h \u001b[38;5;241m=\u001b[39m _gcd_interpolate(h, x, ring)\n\u001b[0;32m     83\u001b[0m h \u001b[38;5;241m=\u001b[39m h\u001b[38;5;241m.\u001b[39mprimitive()[\u001b[38;5;241m1\u001b[39m]\n",
      "File \u001b[1;32mc:\\Users\\lurker\\miniconda3\\envs\\physics\\Lib\\site-packages\\sympy\\polys\\heuristicgcd.py:80\u001b[0m, in \u001b[0;36mheugcd\u001b[1;34m(f, g)\u001b[0m\n\u001b[0;32m     78\u001b[0m     h, cff, cfg \u001b[38;5;241m=\u001b[39m domain\u001b[38;5;241m.\u001b[39mcofactors(ff, gg)\n\u001b[0;32m     79\u001b[0m \u001b[38;5;28;01melse\u001b[39;00m:\n\u001b[1;32m---> 80\u001b[0m     h, cff, cfg \u001b[38;5;241m=\u001b[39m \u001b[43mheugcd\u001b[49m\u001b[43m(\u001b[49m\u001b[43mff\u001b[49m\u001b[43m,\u001b[49m\u001b[43m \u001b[49m\u001b[43mgg\u001b[49m\u001b[43m)\u001b[49m\n\u001b[0;32m     82\u001b[0m h \u001b[38;5;241m=\u001b[39m _gcd_interpolate(h, x, ring)\n\u001b[0;32m     83\u001b[0m h \u001b[38;5;241m=\u001b[39m h\u001b[38;5;241m.\u001b[39mprimitive()[\u001b[38;5;241m1\u001b[39m]\n",
      "File \u001b[1;32mc:\\Users\\lurker\\miniconda3\\envs\\physics\\Lib\\site-packages\\sympy\\polys\\heuristicgcd.py:96\u001b[0m, in \u001b[0;36mheugcd\u001b[1;34m(f, g)\u001b[0m\n\u001b[0;32m     92\u001b[0m         \u001b[38;5;28;01mreturn\u001b[39;00m h, cff_, cfg_\n\u001b[0;32m     94\u001b[0m cff \u001b[38;5;241m=\u001b[39m _gcd_interpolate(cff, x, ring)\n\u001b[1;32m---> 96\u001b[0m h, r \u001b[38;5;241m=\u001b[39m \u001b[43mf\u001b[49m\u001b[38;5;241;43m.\u001b[39;49m\u001b[43mdiv\u001b[49m\u001b[43m(\u001b[49m\u001b[43mcff\u001b[49m\u001b[43m)\u001b[49m\n\u001b[0;32m     98\u001b[0m \u001b[38;5;28;01mif\u001b[39;00m \u001b[38;5;129;01mnot\u001b[39;00m r:\n\u001b[0;32m     99\u001b[0m     cfg_, r \u001b[38;5;241m=\u001b[39m g\u001b[38;5;241m.\u001b[39mdiv(h)\n",
      "File \u001b[1;32mc:\\Users\\lurker\\miniconda3\\envs\\physics\\Lib\\site-packages\\sympy\\polys\\rings.py:1456\u001b[0m, in \u001b[0;36mPolyElement.div\u001b[1;34m(self, fv)\u001b[0m\n\u001b[0;32m   1454\u001b[0m     \u001b[38;5;28;01mif\u001b[39;00m \u001b[38;5;129;01mnot\u001b[39;00m divoccurred:\n\u001b[0;32m   1455\u001b[0m         expv \u001b[38;5;241m=\u001b[39m  p\u001b[38;5;241m.\u001b[39mleading_expv()\n\u001b[1;32m-> 1456\u001b[0m         r \u001b[38;5;241m=\u001b[39m \u001b[43mr\u001b[49m\u001b[38;5;241;43m.\u001b[39;49m\u001b[43m_iadd_monom\u001b[49m\u001b[43m(\u001b[49m\u001b[43m(\u001b[49m\u001b[43mexpv\u001b[49m\u001b[43m,\u001b[49m\u001b[43m \u001b[49m\u001b[43mp\u001b[49m\u001b[43m[\u001b[49m\u001b[43mexpv\u001b[49m\u001b[43m]\u001b[49m\u001b[43m)\u001b[49m\u001b[43m)\u001b[49m\n\u001b[0;32m   1457\u001b[0m         \u001b[38;5;28;01mdel\u001b[39;00m p[expv]\n\u001b[0;32m   1458\u001b[0m \u001b[38;5;28;01mif\u001b[39;00m expv \u001b[38;5;241m==\u001b[39m ring\u001b[38;5;241m.\u001b[39mzero_monom:\n",
      "File \u001b[1;32mc:\\Users\\lurker\\miniconda3\\envs\\physics\\Lib\\site-packages\\sympy\\polys\\rings.py:1524\u001b[0m, in \u001b[0;36mPolyElement._iadd_monom\u001b[1;34m(self, mc)\u001b[0m\n\u001b[0;32m   1521\u001b[0m     \u001b[38;5;28;01melse\u001b[39;00m:\n\u001b[0;32m   1522\u001b[0m         \u001b[38;5;28;01mraise\u001b[39;00m ExactQuotientFailed(f, G)\n\u001b[1;32m-> 1524\u001b[0m \u001b[38;5;28;01mdef\u001b[39;00m \u001b[38;5;21m_iadd_monom\u001b[39m(\u001b[38;5;28mself\u001b[39m, mc):\n\u001b[0;32m   1525\u001b[0m \u001b[38;5;250m    \u001b[39m\u001b[38;5;124;03m\"\"\"add to self the monomial coeff*x0**i0*x1**i1*...\u001b[39;00m\n\u001b[0;32m   1526\u001b[0m \u001b[38;5;124;03m    unless self is a generator -- then just return the sum of the two.\u001b[39;00m\n\u001b[0;32m   1527\u001b[0m \n\u001b[1;32m   (...)\u001b[0m\n\u001b[0;32m   1550\u001b[0m \n\u001b[0;32m   1551\u001b[0m \u001b[38;5;124;03m    \"\"\"\u001b[39;00m\n\u001b[0;32m   1552\u001b[0m     \u001b[38;5;28;01mif\u001b[39;00m \u001b[38;5;28mself\u001b[39m \u001b[38;5;129;01min\u001b[39;00m \u001b[38;5;28mself\u001b[39m\u001b[38;5;241m.\u001b[39mring\u001b[38;5;241m.\u001b[39m_gens_set:\n",
      "\u001b[1;31mKeyboardInterrupt\u001b[0m: "
     ]
    }
   ],
   "source": [
    "from sympy.solvers.ode.systems import dsolve_system\n",
    "\n",
    "dsols = dsolve_system( # this never ends\n",
    "  reduced_equalities,\n",
    "  ics={\n",
    "    the1.subs(t, 0): 0,\n",
    "    the1_d.subs(t, 0): 0,\n",
    "\n",
    "    the2.subs(t, 0): 0,\n",
    "    the2_d.subs(t, 0): 0,\n",
    "\n",
    "    r1.subs(t, 0): 0,\n",
    "    r1_d.subs(t, 0): 0,\n",
    "\n",
    "    r2.subs(t, 0): 0,\n",
    "    r2_d.subs(t, 0): 0,\n",
    "  }\n",
    ")"
   ]
  },
  {
   "cell_type": "markdown",
   "metadata": {},
   "source": [
    "# Numerical integration"
   ]
  },
  {
   "cell_type": "code",
   "execution_count": 36,
   "metadata": {},
   "outputs": [],
   "source": [
    "sols = sp.solve([LE1, LE2, LE3, LE4], (the1_dd, the2_dd, r1_dd, r2_dd),\n",
    "                simplify=False, rational=False)"
   ]
  },
  {
   "cell_type": "code",
   "execution_count": 37,
   "metadata": {},
   "outputs": [],
   "source": [
    "dw1dt_f = sp.lambdify((m, k ,g, the1, the2, r1, r2, the1_d, the2_d, r1_d, r2_d), sols[the1_dd])\n",
    "dthe1dt_f = sp.lambdify(the1_d, the1_d)\n",
    "\n",
    "dw2dt_f = sp.lambdify((m, k ,g, the1, the2, r1, r2, the1_d, the2_d, r1_d, r2_d), sols[the2_dd])\n",
    "dthe2dt_f = sp.lambdify(the2_d, the2_d)\n",
    "\n",
    "dv1dt_f = sp.lambdify((m, k ,g, the1, the2, r1, r2, the1_d, the2_d, r1_d, r2_d), sols[r1_dd])\n",
    "dr1dt_f = sp.lambdify(r1_d, r1_d)\n",
    "\n",
    "dv2dt_f = sp.lambdify((m, k ,g, the1, the2, r1, r2, the1_d, the2_d, r1_d, r2_d), sols[r2_dd])\n",
    "dr2dt_f = sp.lambdify(r2_d, r2_d)"
   ]
  },
  {
   "cell_type": "code",
   "execution_count": 38,
   "metadata": {},
   "outputs": [],
   "source": [
    "def dSdt(S, t):\n",
    "    the1, w1, the2, w2, r1, v1, r2, v2 = S\n",
    "    return [\n",
    "        dthe1dt_f(w1),\n",
    "        dw1dt_f(m,k,g,the1,the2,r1,r2,w1,w2,v1,v2),\n",
    "        dthe2dt_f(w2),\n",
    "        dw2dt_f(m,k,g,the1,the2,r1,r2,w1,w2,v1,v2),\n",
    "        dr1dt_f(v1),\n",
    "        dv1dt_f(m,k,g,the1,the2,r1,r2,w1,w2,v1,v2),\n",
    "        dr2dt_f(v2),\n",
    "        dv2dt_f(m,k,g,the1,the2,r1,r2,w1,w2,v1,v2),\n",
    "    ]"
   ]
  },
  {
   "cell_type": "code",
   "execution_count": 39,
   "metadata": {},
   "outputs": [],
   "source": [
    "t = np.linspace(0, 20, 1000)\n",
    "g = 9.81\n",
    "m = 1\n",
    "k = 10"
   ]
  },
  {
   "cell_type": "code",
   "execution_count": 40,
   "metadata": {},
   "outputs": [],
   "source": [
    "from scipy.integrate import odeint\n",
    "\n",
    "ans = odeint(dSdt, y0=[np.pi/2, 0 ,(3/2)*np.pi/2,0,0,5,0,5], t=t)"
   ]
  },
  {
   "cell_type": "code",
   "execution_count": 41,
   "metadata": {},
   "outputs": [],
   "source": [
    "def get_x1y1x2y2(the1, the2, r1, r2):\n",
    "    return ((1+r1)*np.cos(the1),\n",
    "            -(1+r1)*np.sin(the1),\n",
    "            (1+r1)*np.cos(the1) + (1+r2)*np.cos(the2),\n",
    "            -(1+r1)*np.sin(the1)-(1+r2)*np.sin(the2)\n",
    "    )\n",
    "\n",
    "x1, y1, x2, y2 = get_x1y1x2y2(ans.T[0], ans.T[2], ans.T[4], ans.T[6])"
   ]
  },
  {
   "cell_type": "code",
   "execution_count": 42,
   "metadata": {},
   "outputs": [
    {
     "data": {
      "image/png": "[encoded data removed]",
      "text/plain": [
       "<Figure size 800x800 with 1 Axes>"
      ]
     },
     "metadata": {},
     "output_type": "display_data"
    }
   ],
   "source": [
    "from matplotlib import animation\n",
    "import matplotlib.pyplot as plt\n",
    "\n",
    "def animate(frame):\n",
    "    ln1.set_data([0, x1[frame], x2[frame]], [0, y1[frame], y2[frame]])\n",
    "    \n",
    "fig, ax = plt.subplots(1,1, figsize=(8,8))\n",
    "ax.grid()\n",
    "ln1, = plt.plot([], [], 'ro--', lw=3, markersize=8)\n",
    "ax.set_ylim(-10, 10)\n",
    "ax.set_xlim(-10, 10)\n",
    "ani = animation.FuncAnimation(fig, animate, frames=1000, interval=50)\n",
    "ani.save('heavy_spring.gif', writer='pillow', fps=50)"
   ]
  },
  {
   "cell_type": "code",
   "execution_count": null,
   "metadata": {},
   "outputs": [],
   "source": []
  }
 ],
 "metadata": {
  "kernelspec": {
   "display_name": "Python 3",
   "language": "python",
   "name": "python3"
  },
  "language_info": {
   "codemirror_mode": {
    "name": "ipython",
    "version": 3
   },
   "file_extension": ".py",
   "mimetype": "text/x-python",
   "name": "python",
   "nbconvert_exporter": "python",
   "pygments_lexer": "ipython3",
   "version": "3.12.1"
  }
 },
 "nbformat": 4,
 "nbformat_minor": 4
}
